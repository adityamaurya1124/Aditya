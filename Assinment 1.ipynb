{
 "cells": [
  {
   "cell_type": "code",
   "execution_count": 3,
   "id": "6d224376-06ce-4178-bbf9-9692add45a98",
   "metadata": {},
   "outputs": [],
   "source": [
    "#Q1. Create one variable containing following type of data:"
   ]
  },
  {
   "cell_type": "code",
   "execution_count": 4,
   "id": "44360a2b-c143-49cd-a496-de7ec7d257eb",
   "metadata": {},
   "outputs": [],
   "source": [
    "#(i) string "
   ]
  },
  {
   "cell_type": "code",
   "execution_count": 5,
   "id": "49c86c37-6299-463f-8873-3d473028d696",
   "metadata": {},
   "outputs": [],
   "source": [
    "a = 'aditya'"
   ]
  },
  {
   "cell_type": "code",
   "execution_count": 6,
   "id": "b2a2c7ab-18c5-4c7a-9700-17e759e6d1f8",
   "metadata": {},
   "outputs": [],
   "source": [
    "#(ii) list"
   ]
  },
  {
   "cell_type": "code",
   "execution_count": 7,
   "id": "e894ae0e-29e2-43ca-b55d-eb55f845af18",
   "metadata": {},
   "outputs": [],
   "source": [
    "l = [1,2,3,4,5,44.4,'aditya',True]"
   ]
  },
  {
   "cell_type": "code",
   "execution_count": 8,
   "id": "e811e9bc-8068-4cde-8796-42ab670c278b",
   "metadata": {},
   "outputs": [],
   "source": [
    "#(iii) float"
   ]
  },
  {
   "cell_type": "code",
   "execution_count": 9,
   "id": "b545dd35-7ae6-4dec-94df-088e2299f419",
   "metadata": {},
   "outputs": [],
   "source": [
    "f = 55.55"
   ]
  },
  {
   "cell_type": "code",
   "execution_count": 10,
   "id": "ad508ff9-1b76-45dd-b3fd-fd911fadf990",
   "metadata": {},
   "outputs": [],
   "source": [
    "#(iv) tuple"
   ]
  },
  {
   "cell_type": "code",
   "execution_count": 11,
   "id": "b2f5f530-a4d4-4a01-ab06-1237307ce5e6",
   "metadata": {},
   "outputs": [],
   "source": [
    "t = (2,3,4,8,'pwskills',False)"
   ]
  },
  {
   "cell_type": "code",
   "execution_count": null,
   "id": "473dcf05-f70a-43ff-bb83-f1fa74bdba61",
   "metadata": {},
   "outputs": [],
   "source": []
  },
  {
   "cell_type": "code",
   "execution_count": 13,
   "id": "bace9f3a-9fd8-4342-80c5-c48fc8f98e3c",
   "metadata": {},
   "outputs": [],
   "source": [
    "#Q2. Given are some following variables containing data:"
   ]
  },
  {
   "cell_type": "code",
   "execution_count": 14,
   "id": "4ab757f4-69a9-47b7-bb90-2f0e9d852a02",
   "metadata": {},
   "outputs": [],
   "source": [
    "#(i)\tvar1 = ‘ ‘ = This is a string."
   ]
  },
  {
   "cell_type": "code",
   "execution_count": 15,
   "id": "8d6aa111-6e18-4c63-9cf8-b92a0ac4a1e0",
   "metadata": {},
   "outputs": [],
   "source": [
    "#(ii)\tvar2 = ‘[ DS , ML , Python]’ = This is a string"
   ]
  },
  {
   "cell_type": "code",
   "execution_count": 16,
   "id": "20e3328c-6753-4086-a4d6-ccf7ee6a399b",
   "metadata": {},
   "outputs": [],
   "source": [
    "#(iii)\tvar3 = [ ‘DS’ , ’ML’ , ‘Python’ ] = This is list"
   ]
  },
  {
   "cell_type": "code",
   "execution_count": 17,
   "id": "cd731e62-2931-4961-ae36-0ba2b1191af5",
   "metadata": {},
   "outputs": [],
   "source": [
    "#(iv)\tvar4 = 1. = This is a function to call all the associated function with the attach variable."
   ]
  },
  {
   "cell_type": "code",
   "execution_count": null,
   "id": "178bfd2d-67a9-4f3e-ba10-062ea93c0a91",
   "metadata": {},
   "outputs": [],
   "source": []
  },
  {
   "cell_type": "code",
   "execution_count": 18,
   "id": "ac43b4d6-5959-4578-ad6d-5433a16b2996",
   "metadata": {},
   "outputs": [],
   "source": [
    "#Q3. Explain the use of the following operators using an example:"
   ]
  },
  {
   "cell_type": "code",
   "execution_count": 23,
   "id": "5a7fcc40-0033-4861-b467-979e0e0e3178",
   "metadata": {},
   "outputs": [],
   "source": [
    "# / = this is used for the division."
   ]
  },
  {
   "cell_type": "code",
   "execution_count": 24,
   "id": "adce9c71-5867-41cf-8ce4-a766499e7ba5",
   "metadata": {},
   "outputs": [
    {
     "data": {
      "text/plain": [
       "2.0"
      ]
     },
     "execution_count": 24,
     "metadata": {},
     "output_type": "execute_result"
    }
   ],
   "source": [
    "10/5"
   ]
  },
  {
   "cell_type": "code",
   "execution_count": 19,
   "id": "171e1b90-90cd-44d5-9709-6dee76970a0a",
   "metadata": {},
   "outputs": [],
   "source": [
    "# % = used for to get the remender"
   ]
  },
  {
   "cell_type": "code",
   "execution_count": 25,
   "id": "7a4f6793-db8d-487e-8882-11a9e736bdc1",
   "metadata": {},
   "outputs": [
    {
     "data": {
      "text/plain": [
       "1"
      ]
     },
     "execution_count": 25,
     "metadata": {},
     "output_type": "execute_result"
    }
   ],
   "source": [
    "13%2"
   ]
  },
  {
   "cell_type": "code",
   "execution_count": 22,
   "id": "9f928221-af0a-4724-8a7b-55a66a9e00a4",
   "metadata": {},
   "outputs": [],
   "source": [
    "# // = used for division floor"
   ]
  },
  {
   "cell_type": "code",
   "execution_count": 26,
   "id": "30bec2d6-b0cd-47f7-9aff-1a069ad4914f",
   "metadata": {},
   "outputs": [
    {
     "data": {
      "text/plain": [
       "3"
      ]
     },
     "execution_count": 26,
     "metadata": {},
     "output_type": "execute_result"
    }
   ],
   "source": [
    "6//2"
   ]
  },
  {
   "cell_type": "code",
   "execution_count": null,
   "id": "1f4b5c1a-9d72-4908-a4f8-410ed17a4ec6",
   "metadata": {},
   "outputs": [],
   "source": [
    "# ** = used for to know the power "
   ]
  },
  {
   "cell_type": "code",
   "execution_count": 27,
   "id": "28bc04f3-6c73-428c-bb8f-59a5bef7126f",
   "metadata": {},
   "outputs": [
    {
     "data": {
      "text/plain": [
       "125"
      ]
     },
     "execution_count": 27,
     "metadata": {},
     "output_type": "execute_result"
    }
   ],
   "source": [
    "5**3"
   ]
  },
  {
   "cell_type": "code",
   "execution_count": 30,
   "id": "8b4b6c26-69b9-4833-adad-ed83d229e99b",
   "metadata": {},
   "outputs": [],
   "source": [
    "#Q4. Create a list of length 10 of your choice containing multiple types of data. Using for loop print the\n",
    "# element and its data type."
   ]
  },
  {
   "cell_type": "code",
   "execution_count": 31,
   "id": "cf238676-02a7-4265-83aa-fc7786d2df29",
   "metadata": {},
   "outputs": [],
   "source": [
    "m = [2 , 3 , 44.4 , 8+5j , 'aditya' , 'pwskills' , True , False , 2.2 , 5]"
   ]
  },
  {
   "cell_type": "code",
   "execution_count": 39,
   "id": "11b47728-9abc-4740-96a2-342363765d10",
   "metadata": {},
   "outputs": [
    {
     "name": "stdout",
     "output_type": "stream",
     "text": [
      "<class 'list'>\n",
      "2\n",
      "<class 'list'>\n",
      "3\n",
      "<class 'list'>\n",
      "44.4\n",
      "<class 'list'>\n",
      "(8+5j)\n",
      "<class 'list'>\n",
      "aditya\n",
      "<class 'list'>\n",
      "pwskills\n",
      "<class 'list'>\n",
      "True\n",
      "<class 'list'>\n",
      "False\n",
      "<class 'list'>\n",
      "2.2\n",
      "<class 'list'>\n",
      "5\n"
     ]
    }
   ],
   "source": [
    "for i in m :\n",
    "    print(type(m))\n",
    "    if i==10:\n",
    "        continue\n",
    "    print(i)  "
   ]
  },
  {
   "cell_type": "code",
   "execution_count": null,
   "id": "443f0768-1e79-42c7-bf21-3b2bf6598ce0",
   "metadata": {},
   "outputs": [],
   "source": [
    "#Q5. Using a while loop, verify if the number A is purely divisible by number B and if so then how many\n",
    "# times it can be divisible."
   ]
  },
  {
   "cell_type": "code",
   "execution_count": null,
   "id": "1a451590-293a-4b41-860a-7a43df5c8c2f",
   "metadata": {},
   "outputs": [],
   "source": []
  },
  {
   "cell_type": "code",
   "execution_count": null,
   "id": "ea9c1d4d-8b72-42df-875d-22ceaa9b4ee4",
   "metadata": {},
   "outputs": [],
   "source": [
    "#Q6. Create a list containing 25 int type data. Using for loop and if-else condition print if the element is\n",
    "# divisible by 3 or not."
   ]
  },
  {
   "cell_type": "code",
   "execution_count": null,
   "id": "9aafdfbd-6317-4cec-bcc4-880b03923376",
   "metadata": {},
   "outputs": [],
   "source": []
  },
  {
   "cell_type": "code",
   "execution_count": null,
   "id": "2e474a4b-4d62-4e58-be20-f107d6394f14",
   "metadata": {},
   "outputs": [],
   "source": [
    "#Q7. What do you understand about mutable and immutable data types? Give examples for both showing\n",
    "# this property."
   ]
  },
  {
   "cell_type": "code",
   "execution_count": 4,
   "id": "a78fe71d-4927-4f6b-be7e-4d0e8a8f9405",
   "metadata": {},
   "outputs": [],
   "source": [
    "# mutable data type is such kind of data whome we cam change but in imutable we can not change the data. For eg-"
   ]
  },
  {
   "cell_type": "code",
   "execution_count": 7,
   "id": "295e120f-53f8-4e4e-9476-80912ad0ab29",
   "metadata": {},
   "outputs": [],
   "source": [
    "n = [1,2,44,'aditya']"
   ]
  },
  {
   "cell_type": "code",
   "execution_count": 9,
   "id": "51c8f71e-d545-4242-8b0a-bc275a701db9",
   "metadata": {},
   "outputs": [],
   "source": [
    "n[1]=5"
   ]
  },
  {
   "cell_type": "code",
   "execution_count": 10,
   "id": "61590da1-6ef8-4492-9670-1bd812bb60da",
   "metadata": {},
   "outputs": [
    {
     "data": {
      "text/plain": [
       "[1, 5, 44, 'aditya']"
      ]
     },
     "execution_count": 10,
     "metadata": {},
     "output_type": "execute_result"
    }
   ],
   "source": [
    "n"
   ]
  },
  {
   "cell_type": "code",
   "execution_count": 11,
   "id": "f072bd3f-093c-4f71-bf7d-bc19e8feecb3",
   "metadata": {},
   "outputs": [],
   "source": [
    "# here we can see 2 is replaced by 5 "
   ]
  },
  {
   "cell_type": "code",
   "execution_count": 13,
   "id": "4d93c3fb-17aa-4666-9f29-bf09ed84f285",
   "metadata": {},
   "outputs": [],
   "source": [
    "t = (1,2,44,'aditya')"
   ]
  },
  {
   "cell_type": "code",
   "execution_count": 15,
   "id": "552fa688-46b1-4195-9bf6-d7a945a94f57",
   "metadata": {},
   "outputs": [
    {
     "ename": "TypeError",
     "evalue": "'tuple' object does not support item assignment",
     "output_type": "error",
     "traceback": [
      "\u001b[0;31m---------------------------------------------------------------------------\u001b[0m",
      "\u001b[0;31mTypeError\u001b[0m                                 Traceback (most recent call last)",
      "Cell \u001b[0;32mIn[15], line 1\u001b[0m\n\u001b[0;32m----> 1\u001b[0m \u001b[43mt\u001b[49m\u001b[43m[\u001b[49m\u001b[38;5;241;43m1\u001b[39;49m\u001b[43m]\u001b[49m\u001b[38;5;241m=\u001b[39m\u001b[38;5;241m5\u001b[39m\n",
      "\u001b[0;31mTypeError\u001b[0m: 'tuple' object does not support item assignment"
     ]
    }
   ],
   "source": [
    "t[1]=5"
   ]
  },
  {
   "cell_type": "code",
   "execution_count": null,
   "id": "50a45156-9cb6-4ded-974c-c94bcb774678",
   "metadata": {},
   "outputs": [],
   "source": [
    "# here we can see in tulip we can not change the data"
   ]
  }
 ],
 "metadata": {
  "kernelspec": {
   "display_name": "Python 3 (ipykernel)",
   "language": "python",
   "name": "python3"
  },
  "language_info": {
   "codemirror_mode": {
    "name": "ipython",
    "version": 3
   },
   "file_extension": ".py",
   "mimetype": "text/x-python",
   "name": "python",
   "nbconvert_exporter": "python",
   "pygments_lexer": "ipython3",
   "version": "3.10.8"
  }
 },
 "nbformat": 4,
 "nbformat_minor": 5
}
