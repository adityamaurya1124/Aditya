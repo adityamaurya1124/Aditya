{
 "cells": [
  {
   "cell_type": "code",
   "execution_count": 1,
   "id": "e181a21a-8063-4dfe-b9ee-076bcafe07fd",
   "metadata": {},
   "outputs": [],
   "source": [
    "# Q1, Create a vehicle class with an init method having instance variables as name_of_vehicle, max_speed\n",
    "#     and average_of_vehicle."
   ]
  },
  {
   "cell_type": "code",
   "execution_count": 102,
   "id": "d363f03c-be53-4540-bc75-28f63a6a211d",
   "metadata": {},
   "outputs": [],
   "source": [
    "class vehicle:\n",
    "    \n",
    "    def __init__(self,name_of_vehicle,max_speed,average_of_vehicle):\n",
    "        self.name_of_vehicle=name_of_vehicle\n",
    "        self.max_speed=max_speed\n",
    "        self.average_of_vehicle=average_of_vehicle\n",
    "        \n",
    "    \n",
    "    def vehicle_details(self):\n",
    "        return self.name_of_vehicle , self.max_speed , self.average_of_vehicle"
   ]
  },
  {
   "cell_type": "code",
   "execution_count": 103,
   "id": "b36cb94c-d7b3-4148-b788-ff2f30fee648",
   "metadata": {},
   "outputs": [],
   "source": [
    "car=vehicle('Toyata',180,90)"
   ]
  },
  {
   "cell_type": "code",
   "execution_count": 104,
   "id": "0d0408bc-e2ae-49c1-968a-d77ea4fedd5a",
   "metadata": {},
   "outputs": [
    {
     "data": {
      "text/plain": [
       "'Toyata'"
      ]
     },
     "execution_count": 104,
     "metadata": {},
     "output_type": "execute_result"
    }
   ],
   "source": [
    "car.name_of_vehicle"
   ]
  },
  {
   "cell_type": "code",
   "execution_count": 105,
   "id": "0b605eae-6518-44fe-8e70-76787c9a393e",
   "metadata": {},
   "outputs": [
    {
     "data": {
      "text/plain": [
       "180"
      ]
     },
     "execution_count": 105,
     "metadata": {},
     "output_type": "execute_result"
    }
   ],
   "source": [
    "car.max_speed"
   ]
  },
  {
   "cell_type": "code",
   "execution_count": 106,
   "id": "4394cfb9-1913-478f-9137-4fd1a2576896",
   "metadata": {},
   "outputs": [
    {
     "data": {
      "text/plain": [
       "90"
      ]
     },
     "execution_count": 106,
     "metadata": {},
     "output_type": "execute_result"
    }
   ],
   "source": [
    "car.average_of_vehicle"
   ]
  },
  {
   "cell_type": "code",
   "execution_count": 107,
   "id": "6120f90d-201a-4825-a167-57b29a8c4e3c",
   "metadata": {},
   "outputs": [],
   "source": [
    "# Q2. Create a child class car from the vehicle class created in Que 1, which will inherit the vehicle class.\n",
    "#     Create a method named seating_capacity which takes capacity as an argument and returns the name of\n",
    "#     the vehicle and its seating capacity."
   ]
  },
  {
   "cell_type": "code",
   "execution_count": 124,
   "id": "cd24d2c2-2690-44ba-a915-edd3d8daf907",
   "metadata": {},
   "outputs": [],
   "source": [
    "class child_class(vehicle):\n",
    "    \n",
    "    def sitting_capacity(self,capacity):\n",
    "        return  f\"{self.name_of_vehicle} has a seating capacity of {capacity} passengers.\""
   ]
  },
  {
   "cell_type": "code",
   "execution_count": 125,
   "id": "71a013bb-0dd1-4417-b122-59517798f5cd",
   "metadata": {},
   "outputs": [],
   "source": [
    "car1=child_class('toyata',150,90)"
   ]
  },
  {
   "cell_type": "code",
   "execution_count": 126,
   "id": "867627d8-9990-4364-849b-f87ea4b4decd",
   "metadata": {},
   "outputs": [
    {
     "data": {
      "text/plain": [
       "90"
      ]
     },
     "execution_count": 126,
     "metadata": {},
     "output_type": "execute_result"
    }
   ],
   "source": [
    "car1.average_of_vehicle"
   ]
  },
  {
   "cell_type": "code",
   "execution_count": 127,
   "id": "c9600f90-0d37-4c0f-bcf4-5b70cb0ad62f",
   "metadata": {},
   "outputs": [
    {
     "data": {
      "text/plain": [
       "150"
      ]
     },
     "execution_count": 127,
     "metadata": {},
     "output_type": "execute_result"
    }
   ],
   "source": [
    "car1.max_speed"
   ]
  },
  {
   "cell_type": "code",
   "execution_count": 128,
   "id": "62e0a7b5-272e-4486-b828-4eaece8361d7",
   "metadata": {},
   "outputs": [
    {
     "data": {
      "text/plain": [
       "'toyata'"
      ]
     },
     "execution_count": 128,
     "metadata": {},
     "output_type": "execute_result"
    }
   ],
   "source": [
    "car1.name_of_vehicle"
   ]
  },
  {
   "cell_type": "code",
   "execution_count": 129,
   "id": "016ffb49-d2ac-4158-a17c-4f346ed5b3c9",
   "metadata": {},
   "outputs": [
    {
     "data": {
      "text/plain": [
       "('toyata', 150, 90)"
      ]
     },
     "execution_count": 129,
     "metadata": {},
     "output_type": "execute_result"
    }
   ],
   "source": [
    "car1.vehicle_details()"
   ]
  },
  {
   "cell_type": "code",
   "execution_count": 131,
   "id": "0c1dcb68-9530-43b1-a8bc-2eed1fd9a3a8",
   "metadata": {},
   "outputs": [
    {
     "data": {
      "text/plain": [
       "'toyata has a seating capacity of 8 passengers.'"
      ]
     },
     "execution_count": 131,
     "metadata": {},
     "output_type": "execute_result"
    }
   ],
   "source": [
    "car1.sitting_capacity(8)"
   ]
  },
  {
   "cell_type": "code",
   "execution_count": 25,
   "id": "609c8932-a588-4b23-8561-8ba6fd782fa1",
   "metadata": {},
   "outputs": [],
   "source": [
    "# Q3. What is multiple inheritance? Write a python code to demonstrate multiple inheritance."
   ]
  },
  {
   "cell_type": "code",
   "execution_count": 26,
   "id": "147730de-aa6c-48f9-953d-33f86abcc225",
   "metadata": {},
   "outputs": [],
   "source": [
    "# multiple inheritance means to get the property of two or more classes "
   ]
  },
  {
   "cell_type": "code",
   "execution_count": 84,
   "id": "549d2f49-5e19-4698-971e-3e2dabe9fa01",
   "metadata": {},
   "outputs": [],
   "source": [
    "class test1:\n",
    "    def test_1(self):\n",
    "        return 'this is 1 test'"
   ]
  },
  {
   "cell_type": "code",
   "execution_count": 85,
   "id": "6e1a70f1-39df-43b0-9108-e5b4d44fb84a",
   "metadata": {},
   "outputs": [],
   "source": [
    "class test2:\n",
    "    def test_2(self):\n",
    "        return 'this is 2 class'"
   ]
  },
  {
   "cell_type": "code",
   "execution_count": 86,
   "id": "3c2ad178-7575-455a-ba67-553c61fd5590",
   "metadata": {},
   "outputs": [],
   "source": [
    "class test(test1,test2):\n",
    "    pass"
   ]
  },
  {
   "cell_type": "code",
   "execution_count": 88,
   "id": "5d1a45bb-b12d-4839-b8c0-0ee4ed6c7822",
   "metadata": {},
   "outputs": [],
   "source": [
    "obj_test=test()"
   ]
  },
  {
   "cell_type": "code",
   "execution_count": 89,
   "id": "e939b608-4388-4355-a8cf-ea39e479abd3",
   "metadata": {},
   "outputs": [
    {
     "data": {
      "text/plain": [
       "'this is 1 test'"
      ]
     },
     "execution_count": 89,
     "metadata": {},
     "output_type": "execute_result"
    }
   ],
   "source": [
    "obj_test.test_1()"
   ]
  },
  {
   "cell_type": "code",
   "execution_count": 90,
   "id": "2b01970c-7f72-4d8e-8736-176e806fe5b8",
   "metadata": {},
   "outputs": [
    {
     "data": {
      "text/plain": [
       "'this is 2 class'"
      ]
     },
     "execution_count": 90,
     "metadata": {},
     "output_type": "execute_result"
    }
   ],
   "source": [
    "obj_test.test_2()"
   ]
  },
  {
   "cell_type": "code",
   "execution_count": 35,
   "id": "04bf49f3-94fa-40c0-8891-b3149c456e94",
   "metadata": {},
   "outputs": [],
   "source": [
    "# Q4. What are getter and setter in python? Create a class and create a getter and a setter method in this\n",
    "#     class."
   ]
  },
  {
   "cell_type": "code",
   "execution_count": 36,
   "id": "b8228078-c301-48a4-88e9-5e90ebbc4f02",
   "metadata": {},
   "outputs": [],
   "source": [
    "# getters and setters are methods used to control access to the attributes of a class"
   ]
  },
  {
   "cell_type": "code",
   "execution_count": 18,
   "id": "1eac82ee-2111-414a-8a20-b5fc0026c59e",
   "metadata": {},
   "outputs": [],
   "source": [
    "class vehicle:\n",
    "    def __init__(self,model,speed):\n",
    "        self.__model=model\n",
    "        self.__speed=speed\n",
    "        \n",
    "    def set_speed(self,speed):\n",
    "        self.__speed=0 if speed<0 else speed\n",
    "        \n",
    "        \n",
    "    def get_speed(self):\n",
    "        return self.__speed"
   ]
  },
  {
   "cell_type": "code",
   "execution_count": 19,
   "id": "c5cd5ae8-f681-4f14-8aca-789dadea148d",
   "metadata": {},
   "outputs": [],
   "source": [
    "car=vehicle('toyata',150)"
   ]
  },
  {
   "cell_type": "code",
   "execution_count": 20,
   "id": "3a80a8e8-897b-4cd3-bb3a-e0db7253c4a3",
   "metadata": {},
   "outputs": [
    {
     "data": {
      "text/plain": [
       "150"
      ]
     },
     "execution_count": 20,
     "metadata": {},
     "output_type": "execute_result"
    }
   ],
   "source": [
    "car.get_speed()"
   ]
  },
  {
   "cell_type": "code",
   "execution_count": 21,
   "id": "531ae066-923b-4624-b7d4-e3197fabe8a9",
   "metadata": {},
   "outputs": [],
   "source": [
    "car.set_speed(100)"
   ]
  },
  {
   "cell_type": "code",
   "execution_count": 22,
   "id": "8561dfe8-05e8-45b3-92f1-a8d372cd0c1e",
   "metadata": {},
   "outputs": [
    {
     "data": {
      "text/plain": [
       "100"
      ]
     },
     "execution_count": 22,
     "metadata": {},
     "output_type": "execute_result"
    }
   ],
   "source": [
    "car.get_speed()"
   ]
  },
  {
   "cell_type": "code",
   "execution_count": 25,
   "id": "e4cdbfd8-fe83-46e4-8a3c-ed140c458a23",
   "metadata": {},
   "outputs": [],
   "source": [
    "# Q5.What is method overriding in python? Write a python code to demonstrate method overriding."
   ]
  },
  {
   "cell_type": "code",
   "execution_count": 101,
   "id": "a59846cb-0c67-4a8e-b1b3-a67fc9faa6fe",
   "metadata": {},
   "outputs": [],
   "source": [
    "# overriding feature allows to a subclass to provide a specific implementation of a method that is already\n",
    "# defined on its super class."
   ]
  },
  {
   "cell_type": "code",
   "execution_count": 92,
   "id": "2f77d620-f03d-49b5-8927-737b98d2f383",
   "metadata": {},
   "outputs": [],
   "source": [
    "class class1:\n",
    "    def test(self):\n",
    "        return'Today is test of class 1'\n",
    "    "
   ]
  },
  {
   "cell_type": "code",
   "execution_count": 94,
   "id": "adb265ce-210e-4441-b621-3a5a5c6a7b36",
   "metadata": {},
   "outputs": [],
   "source": [
    "class class2(class1):\n",
    "    def test(self):\n",
    "        return'Today is test of class 2'"
   ]
  },
  {
   "cell_type": "code",
   "execution_count": 96,
   "id": "74a13c29-256a-485f-806e-2d0e1ebc32dd",
   "metadata": {},
   "outputs": [],
   "source": [
    "obj1=class1()"
   ]
  },
  {
   "cell_type": "code",
   "execution_count": 97,
   "id": "05f64684-0a0a-4105-bdf6-9f9deae7c1e4",
   "metadata": {},
   "outputs": [],
   "source": [
    "obj2=class2()"
   ]
  },
  {
   "cell_type": "code",
   "execution_count": 98,
   "id": "6d3b8ae2-5345-44ed-89f7-56a0a8803161",
   "metadata": {},
   "outputs": [
    {
     "data": {
      "text/plain": [
       "'Today is test of class 1'"
      ]
     },
     "execution_count": 98,
     "metadata": {},
     "output_type": "execute_result"
    }
   ],
   "source": [
    "obj1.test()"
   ]
  },
  {
   "cell_type": "code",
   "execution_count": 99,
   "id": "c51f28da-953a-4c8b-a22d-00ff7301f6f3",
   "metadata": {},
   "outputs": [
    {
     "data": {
      "text/plain": [
       "'Today is test of class 2'"
      ]
     },
     "execution_count": 99,
     "metadata": {},
     "output_type": "execute_result"
    }
   ],
   "source": [
    "obj2.test()"
   ]
  },
  {
   "cell_type": "code",
   "execution_count": null,
   "id": "c2322323-7863-4ed5-a570-53e989891479",
   "metadata": {},
   "outputs": [],
   "source": []
  }
 ],
 "metadata": {
  "kernelspec": {
   "display_name": "Python 3 (ipykernel)",
   "language": "python",
   "name": "python3"
  },
  "language_info": {
   "codemirror_mode": {
    "name": "ipython",
    "version": 3
   },
   "file_extension": ".py",
   "mimetype": "text/x-python",
   "name": "python",
   "nbconvert_exporter": "python",
   "pygments_lexer": "ipython3",
   "version": "3.10.8"
  }
 },
 "nbformat": 4,
 "nbformat_minor": 5
}
