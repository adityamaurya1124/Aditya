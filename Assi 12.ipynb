{
 "cells": [
  {
   "cell_type": "code",
   "execution_count": 1,
   "id": "4f2a39d0-bf63-4670-ad9b-26d061362006",
   "metadata": {},
   "outputs": [
    {
     "data": {
      "text/plain": [
       "'Q1. What is a database? Differentiate between SQL and NoSQL databases.'"
      ]
     },
     "execution_count": 1,
     "metadata": {},
     "output_type": "execute_result"
    }
   ],
   "source": [
    "'''Q1. What is a database? Differentiate between SQL and NoSQL databases.'''"
   ]
  },
  {
   "cell_type": "code",
   "execution_count": 2,
   "id": "04d1dd03-e219-42c8-b6e4-0d143eaa993f",
   "metadata": {},
   "outputs": [],
   "source": [
    "# A database is an organized collection of data, typically stored and accessed electronically from a computer system. It is designed to manage,\n",
    "# store, and retrieve information in a structured way to facilitate efficient data management.\n",
    "\n",
    "# Difference between SQL and NoSQL-\n",
    "\n",
    "# SQL- 1) SQL databases are relational and use a tabular structure with predefined schemas. They follow a structured format and use tables to\n",
    "#         store data with rows and columns.\n",
    "#      2) SQL use a standard language for managing and querying data. \n",
    "#      3) Examole - MySQL , Oracle , SQL Server.\n",
    "\n",
    "# NoSQL- 1) NoSQL databases are different and can have various data models like document-based, key-value pairs, wide-column stores.\n",
    "#           They do not require a fixed schema and can handle unstructured or semi-structured data.\n",
    "#        2) They are more flexible in handling large volumes of data and can scale horizontally, making them suitable for distributed systems.\n",
    "#        3) Example -  MongoDB , Cassandra , Redis."
   ]
  },
  {
   "cell_type": "code",
   "execution_count": 3,
   "id": "892b39f4-5d8f-47b4-9e62-fbf4bc5e6815",
   "metadata": {},
   "outputs": [
    {
     "data": {
      "text/plain": [
       "'Q2. What is DDL? Explain why CREATE, DROP, ALTER, and TRUNCATE are used with an example.'"
      ]
     },
     "execution_count": 3,
     "metadata": {},
     "output_type": "execute_result"
    }
   ],
   "source": [
    "'''Q2. What is DDL? Explain why CREATE, DROP, ALTER, and TRUNCATE are used with an example.'''"
   ]
  },
  {
   "cell_type": "code",
   "execution_count": 4,
   "id": "aaad2942-5589-4691-a6aa-b6b04b74a63c",
   "metadata": {},
   "outputs": [],
   "source": [
    "# DDL stands for Data Definition Language. It's a subset of SQL that allows users to define, modify, and drop the structure of a database and \n",
    "# its objects. DDL commands are used to manage the structure of the database, such as tables, views, indexes, etc.\n",
    "\n",
    "# CREATE - The CREATE command is used to create new database objects such as tables, views, indexes, etc.\n",
    "# DROP - The DROP command is used to delete database objects like tables, views, indexes, etc.\n",
    "# ALTER - The ALTER command is used to modify the structure of an existing database object.\n",
    "# TRUNCATE - The TRUNCATE command is used to remove all the records from a table but keeps the table structure intact."
   ]
  },
  {
   "cell_type": "code",
   "execution_count": 10,
   "id": "29170ecb-3ceb-4b69-933b-f8a33cb5e16a",
   "metadata": {},
   "outputs": [],
   "source": [
    "# Examples -\n",
    "\n",
    "# CREATE TABLE employees (\n",
    "#    employee_id INT PRIMARY KEY,\n",
    "#    first_name VARCHAR(50),\n",
    "#    last_name VARCHAR(50),\n",
    "#    department_id INT\n",
    "# );"
   ]
  },
  {
   "cell_type": "code",
   "execution_count": 11,
   "id": "174b3cea-31c7-40d7-9ee4-6f4586bb165d",
   "metadata": {},
   "outputs": [],
   "source": [
    "# DROP TABLE employees;"
   ]
  },
  {
   "cell_type": "code",
   "execution_count": 12,
   "id": "2b4b3596-a7d8-4424-ab8b-6fef596c5f9c",
   "metadata": {},
   "outputs": [],
   "source": [
    "# ALTER TABLE employees\n",
    "# ADD COLUMN email VARCHAR(100);"
   ]
  },
  {
   "cell_type": "code",
   "execution_count": 13,
   "id": "a94819fe-a410-40a2-951f-970c312d5d12",
   "metadata": {},
   "outputs": [],
   "source": [
    "# TRUNCATE TABLE employees;"
   ]
  },
  {
   "cell_type": "code",
   "execution_count": 5,
   "id": "1c715c92-0f47-4837-9288-a24791b39d4e",
   "metadata": {},
   "outputs": [
    {
     "data": {
      "text/plain": [
       "'Q3. What is DML? Explain INSERT, UPDATE, and DELETE with an example.'"
      ]
     },
     "execution_count": 5,
     "metadata": {},
     "output_type": "execute_result"
    }
   ],
   "source": [
    "'''Q3. What is DML? Explain INSERT, UPDATE, and DELETE with an example.'''"
   ]
  },
  {
   "cell_type": "code",
   "execution_count": null,
   "id": "efc14123-36c0-4490-99b4-9e89a58f49ed",
   "metadata": {},
   "outputs": [],
   "source": [
    "# DML stands for Data Manipulation Language. It is a subset of SQL used to manage and manipulate the data within a database. DML commands enable\n",
    "# users to perform various operations on the data stored in tables.\n",
    "\n",
    "# INSERT - The INSERT command is used to add new records (rows) into a table.\n",
    "# UPDATE - The UPDATE command is used to modify existing records within a table.\n",
    "# DELETE - The DELETE command is used to remove specific records from a table."
   ]
  },
  {
   "cell_type": "code",
   "execution_count": null,
   "id": "45f8faa2-219b-4346-afeb-29f3f11fb062",
   "metadata": {},
   "outputs": [],
   "source": [
    "# Examples - \n",
    "\n",
    "# INSERT INTO students (student_id, student_name, age)\n",
    "# VALUES (11, 'Aditya', 20);"
   ]
  },
  {
   "cell_type": "code",
   "execution_count": null,
   "id": "7d14f980-0ab1-4436-a9ba-35f8a6805dfa",
   "metadata": {},
   "outputs": [],
   "source": [
    "# UPDATE students\n",
    "# SET age = 21\n",
    "# WHERE student_id = 11;"
   ]
  },
  {
   "cell_type": "code",
   "execution_count": null,
   "id": "7654110d-069c-40d8-8907-c41b3469544a",
   "metadata": {},
   "outputs": [],
   "source": [
    "# DELETE FROM students\n",
    "# WHERE student_id = 11;"
   ]
  },
  {
   "cell_type": "code",
   "execution_count": null,
   "id": "7daafbb3-9e20-43e7-acb8-77bc294462ff",
   "metadata": {},
   "outputs": [
    {
     "data": {
      "text/plain": [
       "'Q4. What is DQL? Explain SELECT with an example.'"
      ]
     },
     "execution_count": 7,
     "metadata": {},
     "output_type": "execute_result"
    }
   ],
   "source": [
    "'''Q4. What is DQL? Explain SELECT with an example.'''"
   ]
  },
  {
   "cell_type": "code",
   "execution_count": 8,
   "id": "fa6d9f1e-e72b-4ce8-9f5b-ccff38df6eb9",
   "metadata": {},
   "outputs": [],
   "source": [
    "# DQL stands for Data Query Language. It is a subset of SQL responsible for retrieving and querying data from a database. DQL specifically \n",
    "# involves the SELECT statement, used to retrieve data from one or more tables.\n",
    "\n",
    "# SELECT - The SELECT statement is used to retrieve data from a database. It allows you to specify the columns you want to retrieve and can \n",
    "#          include various options to filter, sort, and manipulate the data."
   ]
  },
  {
   "cell_type": "code",
   "execution_count": 9,
   "id": "047d61fd-18a2-4775-9012-01007e7a28e7",
   "metadata": {},
   "outputs": [],
   "source": [
    "# Example - Suppose we have a table called \"employees\" with columns: employee_id, first_name, last_name, and department_id. To retrieve specific\n",
    "# information from this table:\n",
    "\n",
    "# SELECT first_name, last_name, department_id\n",
    "# FROM employees\n",
    "# WHERE department_id = 101\n",
    "# ORDER BY last_name;\n"
   ]
  },
  {
   "cell_type": "code",
   "execution_count": 14,
   "id": "5f43258a-8c92-421f-bcab-9bb45414f142",
   "metadata": {},
   "outputs": [
    {
     "data": {
      "text/plain": [
       "'Q5. Explain Primary Key and Foreign Key.'"
      ]
     },
     "execution_count": 14,
     "metadata": {},
     "output_type": "execute_result"
    }
   ],
   "source": [
    "'''Q5. Explain Primary Key and Foreign Key.'''"
   ]
  },
  {
   "cell_type": "code",
   "execution_count": 1,
   "id": "edb04e28-ac99-4d20-abe1-c68beaf31378",
   "metadata": {},
   "outputs": [],
   "source": [
    "# Primary Key - 1) A Primary Key is a column or set of columns in a table that uniquely identifies each row or record in that table. It must \n",
    "#                  have a unique value for each record and cannot contain NULL values.\n",
    "#               2) A Primary Key enforces entity integrity by ensuring that no duplicate or null values exist in the specified column(s). It \n",
    "#                  uniquely identifies each record in the table.\n",
    "#               3) Typically, the Primary Key is used as the reference for relationships between different tables.\n",
    "\n",
    "# Foreign Key - 1) A Foreign Key is a field in a table that essentially refers to the Primary Key in another table. It establishes a \n",
    "#                  relationship between two tables.\n",
    "#               2) It maintains referential integrity by ensuring that the values in the Foreign Key column exist in the referenced table's\n",
    "#                  Primary Key column or are NULL.\n",
    "#               3) Foreign Keys help in establishing relationships between tables and ensuring that these relationships are maintained."
   ]
  },
  {
   "cell_type": "code",
   "execution_count": 2,
   "id": "ec9d65af-2903-4cd7-bc36-36254dda4231",
   "metadata": {},
   "outputs": [
    {
     "data": {
      "text/plain": [
       "'Q6. Write a python code to connect MySQL to python. Explain the cursor() and execute() method.'"
      ]
     },
     "execution_count": 2,
     "metadata": {},
     "output_type": "execute_result"
    }
   ],
   "source": [
    "'''Q6. Write a python code to connect MySQL to python. Explain the cursor() and execute() method.'''"
   ]
  },
  {
   "cell_type": "code",
   "execution_count": 3,
   "id": "9fefbb08-4424-4b76-9dda-ffcd96d45aca",
   "metadata": {},
   "outputs": [
    {
     "ename": "ModuleNotFoundError",
     "evalue": "No module named 'mysql'",
     "output_type": "error",
     "traceback": [
      "\u001b[0;31m---------------------------------------------------------------------------\u001b[0m",
      "\u001b[0;31mModuleNotFoundError\u001b[0m                       Traceback (most recent call last)",
      "Cell \u001b[0;32mIn[3], line 1\u001b[0m\n\u001b[0;32m----> 1\u001b[0m \u001b[38;5;28;01mimport\u001b[39;00m \u001b[38;5;21;01mmysql\u001b[39;00m\u001b[38;5;21;01m.\u001b[39;00m\u001b[38;5;21;01mconnector\u001b[39;00m\n\u001b[1;32m      3\u001b[0m mydb \u001b[38;5;241m=\u001b[39m mysql\u001b[38;5;241m.\u001b[39mconnector\u001b[38;5;241m.\u001b[39mconnect(\n\u001b[1;32m      4\u001b[0m     host\u001b[38;5;241m=\u001b[39m\u001b[38;5;124m\"\u001b[39m\u001b[38;5;124myour_host\u001b[39m\u001b[38;5;124m\"\u001b[39m,\n\u001b[1;32m      5\u001b[0m     user\u001b[38;5;241m=\u001b[39m\u001b[38;5;124m\"\u001b[39m\u001b[38;5;124myour_username\u001b[39m\u001b[38;5;124m\"\u001b[39m,\n\u001b[1;32m      6\u001b[0m     password\u001b[38;5;241m=\u001b[39m\u001b[38;5;124m\"\u001b[39m\u001b[38;5;124myour_password\u001b[39m\u001b[38;5;124m\"\u001b[39m,\n\u001b[1;32m      7\u001b[0m     database\u001b[38;5;241m=\u001b[39m\u001b[38;5;124m\"\u001b[39m\u001b[38;5;124myour_database\u001b[39m\u001b[38;5;124m\"\u001b[39m\n\u001b[1;32m      8\u001b[0m )\n\u001b[1;32m     10\u001b[0m my_cursor \u001b[38;5;241m=\u001b[39m mydb\u001b[38;5;241m.\u001b[39mcursor()\n",
      "\u001b[0;31mModuleNotFoundError\u001b[0m: No module named 'mysql'"
     ]
    }
   ],
   "source": [
    "# First Install mysql-connector-python\n",
    "\n",
    "import mysql.connector\n",
    "\n",
    "mydb = mysql.connector.connect(\n",
    "    host=\"your_host\",\n",
    "    user=\"your_username\",\n",
    "    password=\"your_password\",\n",
    "    database=\"your_database\"\n",
    ")\n",
    "\n",
    "my_cursor = mydb.cursor()\n",
    "\n",
    "# The cursor() method creates a cursor object which is used to execute SQL queries.\n",
    "query = \"SELECT * FROM your_table\"\n",
    "\n",
    "my_cursor.execute(query)\n",
    "\n",
    "# The execute() method is used to execute SQL queries. Here, we are running a SELECT query on the specified table.\n",
    "\n",
    "result = my_cursor.fetchall()\n",
    "\n",
    "for i in result:\n",
    "    print(i)\n",
    "    \n",
    "my_cursor.close()\n",
    "mydb.close()\n"
   ]
  },
  {
   "cell_type": "code",
   "execution_count": 4,
   "id": "202e4b4b-c41e-4a01-8c64-0f9a6900be80",
   "metadata": {},
   "outputs": [
    {
     "data": {
      "text/plain": [
       "'Q7. Give the order of execution of SQL clauses in an SQL query.'"
      ]
     },
     "execution_count": 4,
     "metadata": {},
     "output_type": "execute_result"
    }
   ],
   "source": [
    "'''Q7. Give the order of execution of SQL clauses in an SQL query.'''"
   ]
  },
  {
   "cell_type": "code",
   "execution_count": null,
   "id": "e1ed5033-bdfe-48b7-ad7c-ef128918aa47",
   "metadata": {},
   "outputs": [],
   "source": [
    "# In SQL, when constructing a query, the order of execution of the various clauses generally follows a sequence to ensure the correct retrieval\n",
    "# and manipulation of data. The typical order of execution is as follows:\n",
    "\n",
    "# FROM - The FROM clause specifies the tables or views from which the data will be retrieved.\n",
    "\n",
    "# WHERE - The WHERE clause filters the rows returned by specifying a condition. It restricts the result set to satisfy the conditions specified.\n",
    "\n",
    "# GROUP BY - The GROUP BY clause groups rows sharing a common value in one or more columns.\n",
    "\n",
    "# HAVING -The HAVING clause filters rows after the GROUP BY clause has grouped the data. It works similarly to the WHERE clause but is used with \n",
    "# aggregate functions.\n",
    "\n",
    "# SELECT -  The SELECT clause specifies the columns to be retrieved from the database. It operates on the rows that are determined by the FROM,\n",
    "# WHERE, and GROUP BY clauses.\n",
    "\n",
    "# ORDER BY - The ORDER BY clause sorts the result set based on the specified columns either in ascending or descending order.\n",
    "\n",
    "# LIMIT/OFFSET- These are used in some SQL implementations (like MySQL and PostgreSQL) to limit the number of rows returned or skip a specified\n",
    "# number of rows."
   ]
  }
 ],
 "metadata": {
  "kernelspec": {
   "display_name": "Python 3 (ipykernel)",
   "language": "python",
   "name": "python3"
  },
  "language_info": {
   "codemirror_mode": {
    "name": "ipython",
    "version": 3
   },
   "file_extension": ".py",
   "mimetype": "text/x-python",
   "name": "python",
   "nbconvert_exporter": "python",
   "pygments_lexer": "ipython3",
   "version": "3.10.8"
  }
 },
 "nbformat": 4,
 "nbformat_minor": 5
}
