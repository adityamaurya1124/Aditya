{
 "cells": [
  {
   "cell_type": "code",
   "execution_count": 1,
   "id": "9834c92d-bf98-4129-b9e4-5390b78b6e04",
   "metadata": {},
   "outputs": [
    {
     "data": {
      "text/plain": [
       "'Q1 What is multithreading in python? Why is it used? Name the module used to handle threads in python.'"
      ]
     },
     "execution_count": 1,
     "metadata": {},
     "output_type": "execute_result"
    }
   ],
   "source": [
    "'''Q1 What is multithreading in python? Why is it used? Name the module used to handle threads in python.'''"
   ]
  },
  {
   "cell_type": "code",
   "execution_count": 2,
   "id": "d1b9aed9-86a7-4e5a-9d69-59554504537f",
   "metadata": {},
   "outputs": [],
   "source": [
    "# In a multithreaded program, multiple threads run independently, sharing the same resources, such as memory space, while executing different\n",
    "# parts of the program. This allows you to perform multiple tasks simultaneously, which can lead to more efficient and responsive applications.\n",
    "\n",
    "# Multithreading in Python is used for several reasons, and its primary purposes are to improve program efficiency, responsiveness, Parallelism,\n",
    "# Resource Sharing, Synchronization etc.\n",
    "\n",
    "# In python 'threading' module is used to handle thread in python."
   ]
  },
  {
   "cell_type": "code",
   "execution_count": 3,
   "id": "0884f891-a0de-49e3-ad30-883c2de0981e",
   "metadata": {},
   "outputs": [
    {
     "data": {
      "text/plain": [
       "'Q2 Why threading module used? Write the use of the following functions:\\n1. activeCount()\\n2. currentThread()\\n3. enumerate()'"
      ]
     },
     "execution_count": 3,
     "metadata": {},
     "output_type": "execute_result"
    }
   ],
   "source": [
    "'''Q2 Why threading module used? Write the use of the following functions:\n",
    "1. activeCount()\n",
    "2. currentThread()\n",
    "3. enumerate()'''"
   ]
  },
  {
   "cell_type": "code",
   "execution_count": 4,
   "id": "08083f04-f635-4101-8eb8-b0011abe6e73",
   "metadata": {},
   "outputs": [],
   "source": [
    "# The threading module in Python is used for several purposes related to thread management and concurrency in multi-threaded applications. \n",
    "# It provides the necessary tools and abstractions to work with threads effectively.\n",
    "\n",
    "# 1) activeCount() - The activeCount() method is a function provided by the threading module in Python. It is used to determine the number of\n",
    "#                    currently active Thread objects in a Python program.\n",
    "\n",
    "# 2) CurrentThread() _ The currentThread() method is a function provided by the threading module in Python. It is used to obtain a reference to\n",
    "#                      the currently executing Thread object. This method returns the Thread object that represents the thread from which it is \n",
    "#                      called.\n",
    "\n",
    "# 3) enumerate() - The enumerate() function in Python is used to iterate over a sequence while keeping track of both the index and the value of\n",
    "#                  each item in the sequence."
   ]
  },
  {
   "cell_type": "code",
   "execution_count": 5,
   "id": "ec9ba2c7-e1db-4281-a759-9904e377b12f",
   "metadata": {},
   "outputs": [
    {
     "data": {
      "text/plain": [
       "'Q3. Explain the following functions:\\n1. run()\\n2. start()\\n3. join()\\n4. isAlive()'"
      ]
     },
     "execution_count": 5,
     "metadata": {},
     "output_type": "execute_result"
    }
   ],
   "source": [
    "'''Q3. Explain the following functions:\n",
    "1. run()\n",
    "2. start()\n",
    "3. join()\n",
    "4. isAlive()'''"
   ]
  },
  {
   "cell_type": "code",
   "execution_count": 6,
   "id": "9448f2f9-b889-44c9-82fd-bf1eaaade888",
   "metadata": {},
   "outputs": [],
   "source": [
    "# 1) run() - The .run() method executes any target function belonging to a given thread object that is now active. It normally executes in the \n",
    "#            background after the .start() method is invoked.\n",
    "\n",
    "# 2) start() - The start() method is an inbuilt method of the Thread class of the threading module, it is used to start a thread's activity.\n",
    "#              This method calls the run() method internally which then executes the target method.\n",
    "\n",
    "# 3) join() - The join() in Python takes all the elements of an iterable and joins them into a single string. It will return the joined string.\n",
    "\n",
    "# 4) isAlive() - The isAlive() method is an inbuilt method of the Thread class of the threading module, it is used to check whether that thread\n",
    "#                is alive or not. Eg- it is still running or not."
   ]
  },
  {
   "cell_type": "code",
   "execution_count": 7,
   "id": "a3638e56-96dd-4166-ad70-1ca496b2ca1f",
   "metadata": {},
   "outputs": [
    {
     "data": {
      "text/plain": [
       "'Q4. Write a python program to create two threads. Thread one must print the list of squares and thread two must print the list of cubes.'"
      ]
     },
     "execution_count": 7,
     "metadata": {},
     "output_type": "execute_result"
    }
   ],
   "source": [
    "'''Q4. Write a python program to create two threads. Thread one must print the list of squares and thread two must print the list of cubes.'''"
   ]
  },
  {
   "cell_type": "code",
   "execution_count": 11,
   "id": "6a57a25d-819f-42e7-b63f-54e2db08ca89",
   "metadata": {},
   "outputs": [
    {
     "name": "stdout",
     "output_type": "stream",
     "text": [
      "Square of 1: 1\n",
      "Square of 2: 4\n",
      "Square of 3: 9\n",
      "Square of 4: 16\n",
      "Square of 5: 25\n",
      "Cube of 1: 1\n",
      "Cube of 2: 8\n",
      "Cube of 3: 27\n",
      "Cube of 4: 64\n",
      "Cube of 5: 125\n",
      "Both threads have finished.\n"
     ]
    }
   ],
   "source": [
    "import threading\n",
    "\n",
    "def print_squares():\n",
    "    for i in range(1, 6):\n",
    "        print(f\"Square of {i}: {i**2}\")\n",
    "\n",
    "def print_cubes():\n",
    "    for i in range(1, 6):\n",
    "        print(f\"Cube of {i}: {i**3}\")\n",
    "\n",
    "thread1 = threading.Thread(target=print_squares)\n",
    "thread2 = threading.Thread(target=print_cubes)\n",
    "\n",
    "thread1.start()\n",
    "thread2.start()\n",
    "\n",
    "thread1.join()\n",
    "thread2.join()\n",
    "\n",
    "print(\"Both threads have finished.\")\n"
   ]
  },
  {
   "cell_type": "code",
   "execution_count": 9,
   "id": "ffff2ca5-cd77-4b61-a077-45057890224b",
   "metadata": {},
   "outputs": [
    {
     "data": {
      "text/plain": [
       "'Q5. State advantages and disadvantages of multithreading.'"
      ]
     },
     "execution_count": 9,
     "metadata": {},
     "output_type": "execute_result"
    }
   ],
   "source": [
    "'''Q5. State advantages and disadvantages of multithreading.'''"
   ]
  },
  {
   "cell_type": "code",
   "execution_count": 12,
   "id": "2406a18b-ea1d-4a5b-bf9e-296fe2002152",
   "metadata": {},
   "outputs": [],
   "source": [
    "# Multithreading offers several advantages and disadvantages, depending on the context and the nature of the application .\n",
    "\n",
    "# Advantages - 1. Multithreading can lead to improved performance by taking advantage of multiple CPU cores.\n",
    "#              2. Threads within the same process share the same memory space, which makes it easier to pass data and share resources between\n",
    "#                 threads.\n",
    "#              3. Multithreading can help break down complex tasks into smaller, more manageable components.\n",
    "\n",
    "# Disadvantages - 1. Multithreading introduces complexity to the code.\n",
    "#                 2. Writing correct multithreaded code can be difficult, and it is most likly to get the  issues like race conditions,\n",
    "#                    deadlocks, and thread contention. \n",
    "#                 3. Multithreading may not be fully portable across different operating systems and platforms. \n"
   ]
  },
  {
   "cell_type": "code",
   "execution_count": 13,
   "id": "529df5cc-5fe3-41ef-b185-4112a69014b9",
   "metadata": {},
   "outputs": [
    {
     "data": {
      "text/plain": [
       "'Q6. Explain deadlocks and race conditions.'"
      ]
     },
     "execution_count": 13,
     "metadata": {},
     "output_type": "execute_result"
    }
   ],
   "source": [
    "'''Q6. Explain deadlocks and race conditions.'''"
   ]
  },
  {
   "cell_type": "code",
   "execution_count": null,
   "id": "39692560-40d4-411a-8314-faad332df8df",
   "metadata": {},
   "outputs": [],
   "source": [
    "# Deadlock - A deadlock is a situation where two or more threads or processes are unable to proceed because each is waiting for the other to\n",
    "#            release a resource.\n",
    "\n",
    "# Rare conditions - A race condition is a situation in which the behavior of a program depends on the relative timing of events, such as the\n",
    "#                   order of execution of threads or processes.\n",
    "#                   Race conditions occur when multiple threads or processes access shared resources concurrently without proper synchronization, leading to unpredictable or unintended results."
   ]
  }
 ],
 "metadata": {
  "kernelspec": {
   "display_name": "Python 3 (ipykernel)",
   "language": "python",
   "name": "python3"
  },
  "language_info": {
   "codemirror_mode": {
    "name": "ipython",
    "version": 3
   },
   "file_extension": ".py",
   "mimetype": "text/x-python",
   "name": "python",
   "nbconvert_exporter": "python",
   "pygments_lexer": "ipython3",
   "version": "3.10.8"
  }
 },
 "nbformat": 4,
 "nbformat_minor": 5
}
