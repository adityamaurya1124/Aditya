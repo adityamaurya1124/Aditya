{
 "cells": [
  {
   "cell_type": "code",
   "execution_count": 1,
   "id": "0e94193d-4942-48ed-9068-ab55c47ae092",
   "metadata": {},
   "outputs": [
    {
     "data": {
      "text/plain": [
       "'Q1. What is Abstraction in OOps? Explain with an example.'"
      ]
     },
     "execution_count": 1,
     "metadata": {},
     "output_type": "execute_result"
    }
   ],
   "source": [
    "'''Q1. What is Abstraction in OOps? Explain with an example.'''"
   ]
  },
  {
   "cell_type": "code",
   "execution_count": 2,
   "id": "64e459b1-5e9d-4201-a981-969030a6ae23",
   "metadata": {},
   "outputs": [],
   "source": [
    "# Abstraction is one of the piller of OOPs with the help of abstraction we can make a blueprit or skleton of a class and usses this class method \n",
    "# in other class by inheritance and give oun command to the methods."
   ]
  },
  {
   "cell_type": "code",
   "execution_count": 3,
   "id": "e439d3a3-6705-42e4-b2a5-e412424fe0eb",
   "metadata": {},
   "outputs": [],
   "source": [
    "import abc\n",
    "class vehicle:\n",
    "    \n",
    "    @abc.abstractmethod\n",
    "    def vehicle_model(self):\n",
    "        pass\n",
    "    \n",
    "    @abc.abstractmethod\n",
    "    def vehicle_colour(self):\n",
    "        pass\n",
    "    \n",
    "    @abc.abstractmethod\n",
    "    def vehicle_sitting_capacity(self):\n",
    "        pass"
   ]
  },
  {
   "cell_type": "code",
   "execution_count": 4,
   "id": "5ccb941c-237b-427d-8c32-f27c36f08900",
   "metadata": {},
   "outputs": [],
   "source": [
    "class toyata(vehicle):\n",
    "    \n",
    "    def vehicle_model(self):\n",
    "        return 'this is innova'\n",
    "    \n",
    "    def vehicle_colour(self):\n",
    "        return 'colour is grey'\n",
    "    \n",
    "    def vehicle_sitting_capacity(self):\n",
    "        return 'sitting capacity is 8'"
   ]
  },
  {
   "cell_type": "code",
   "execution_count": 5,
   "id": "eae62983-a690-4085-89c2-8a8a8cf8a428",
   "metadata": {},
   "outputs": [],
   "source": [
    "class mahindra(vehicle):\n",
    "    \n",
    "    def vehicle_model(self):\n",
    "        return 'this is Thar'\n",
    "    \n",
    "    def vehicle_colour(self):\n",
    "        return 'colour is white'"
   ]
  },
  {
   "cell_type": "code",
   "execution_count": 6,
   "id": "1da2c2d8-a2dd-4544-88da-9fb7ae6c0d0e",
   "metadata": {},
   "outputs": [],
   "source": [
    "toy=toyata()"
   ]
  },
  {
   "cell_type": "code",
   "execution_count": 7,
   "id": "33300c62-6ec5-486e-af8b-7d36a579b5d7",
   "metadata": {},
   "outputs": [],
   "source": [
    "mah=mahindra()"
   ]
  },
  {
   "cell_type": "code",
   "execution_count": 9,
   "id": "95f86d2a-0a03-4247-a5bb-f8c5ac7d4ff2",
   "metadata": {},
   "outputs": [
    {
     "data": {
      "text/plain": [
       "'this is innova'"
      ]
     },
     "execution_count": 9,
     "metadata": {},
     "output_type": "execute_result"
    }
   ],
   "source": [
    "toy.vehicle_model()"
   ]
  },
  {
   "cell_type": "code",
   "execution_count": 10,
   "id": "9c26fc82-a84c-4310-9a7d-8294f862161d",
   "metadata": {},
   "outputs": [
    {
     "data": {
      "text/plain": [
       "'this is Thar'"
      ]
     },
     "execution_count": 10,
     "metadata": {},
     "output_type": "execute_result"
    }
   ],
   "source": [
    "mah.vehicle_model()"
   ]
  },
  {
   "cell_type": "code",
   "execution_count": 11,
   "id": "8c946a73-0e47-4cb2-9fde-3e98fef03739",
   "metadata": {},
   "outputs": [
    {
     "data": {
      "text/plain": [
       "'Q2. Differentiate between Abstraction and Encapsulation. Explain with an example.'"
      ]
     },
     "execution_count": 11,
     "metadata": {},
     "output_type": "execute_result"
    }
   ],
   "source": [
    "'''Q2. Differentiate between Abstraction and Encapsulation. Explain with an example.'''"
   ]
  },
  {
   "cell_type": "code",
   "execution_count": 12,
   "id": "534e63b4-6f7c-4c16-86e5-1095c7b3678a",
   "metadata": {},
   "outputs": [],
   "source": [
    "# with abstraction we can make a blueprint of a class and acess them but in encapsulatoion we can hide the methods of class and user can not \n",
    "# acess the methods of the class"
   ]
  },
  {
   "cell_type": "code",
   "execution_count": 43,
   "id": "82d9eb1f-23df-4cba-8def-094275aa1e1c",
   "metadata": {},
   "outputs": [],
   "source": [
    "import abc\n",
    "class animal:\n",
    "    \n",
    "    def sound(self):\n",
    "        pass\n",
    "    \n",
    "    def colour(self):\n",
    "        pass"
   ]
  },
  {
   "cell_type": "code",
   "execution_count": 44,
   "id": "3eb6e006-2eee-4fb7-b589-6f787fde0542",
   "metadata": {},
   "outputs": [],
   "source": [
    "class cat(animal):\n",
    "    \n",
    "    def sound(self):\n",
    "        return 'meww'\n",
    "    def colour(self):\n",
    "        return 'black'"
   ]
  },
  {
   "cell_type": "code",
   "execution_count": 15,
   "id": "294e9bb8-461e-46db-9bd6-e1cd4faf5208",
   "metadata": {},
   "outputs": [],
   "source": [
    "c=cat()"
   ]
  },
  {
   "cell_type": "code",
   "execution_count": 17,
   "id": "336d6e2f-6509-40e9-881b-f55949108ee9",
   "metadata": {},
   "outputs": [
    {
     "data": {
      "text/plain": [
       "'black'"
      ]
     },
     "execution_count": 17,
     "metadata": {},
     "output_type": "execute_result"
    }
   ],
   "source": [
    "c.colour()       # here we can see we can acess the method of the class"
   ]
  },
  {
   "cell_type": "code",
   "execution_count": 31,
   "id": "ec91f78b-3f51-4272-bbab-9918358322bd",
   "metadata": {},
   "outputs": [],
   "source": [
    "class bank:\n",
    "    \n",
    "    def __init__(self,balance):\n",
    "        self.__balance=balance\n",
    "        \n",
    "        \n",
    "    def know_balance(self):\n",
    "        print( self.__balance)"
   ]
  },
  {
   "cell_type": "code",
   "execution_count": 32,
   "id": "c6897a78-b649-4d69-82f6-958ede246874",
   "metadata": {},
   "outputs": [],
   "source": [
    "sbi=bank(1000)"
   ]
  },
  {
   "cell_type": "code",
   "execution_count": 35,
   "id": "58c07052-7b9b-44ab-9e89-ededee4b4a33",
   "metadata": {},
   "outputs": [
    {
     "name": "stdout",
     "output_type": "stream",
     "text": [
      "1000\n"
     ]
    }
   ],
   "source": [
    "sbi.know_balance()         # here we can see we can not see the balance direct by the __init__ function "
   ]
  },
  {
   "cell_type": "code",
   "execution_count": 36,
   "id": "96004249-1013-44bf-9498-1bc2256b7284",
   "metadata": {},
   "outputs": [
    {
     "data": {
      "text/plain": [
       "'Q3. What is abc module in python? Why is it used?'"
      ]
     },
     "execution_count": 36,
     "metadata": {},
     "output_type": "execute_result"
    }
   ],
   "source": [
    "'''Q3. What is abc module in python? Why is it used?'''"
   ]
  },
  {
   "cell_type": "code",
   "execution_count": 37,
   "id": "cb0c57f1-6925-4d4c-8c1f-49d15a47a1de",
   "metadata": {},
   "outputs": [],
   "source": [
    "# abc is stand for 'Abstract base classes'.The abc module is used to create abstract classes and abstract methods in Python."
   ]
  },
  {
   "cell_type": "code",
   "execution_count": 38,
   "id": "040c3f0b-b202-43b1-9de5-f902a1e5b3fb",
   "metadata": {},
   "outputs": [
    {
     "data": {
      "text/plain": [
       "'4. How can we achieve data abstraction?'"
      ]
     },
     "execution_count": 38,
     "metadata": {},
     "output_type": "execute_result"
    }
   ],
   "source": [
    "'''4. How can we achieve data abstraction?'''"
   ]
  },
  {
   "cell_type": "code",
   "execution_count": 39,
   "id": "590b0225-74cd-4ea0-af70-4e125f3ec4f4",
   "metadata": {},
   "outputs": [],
   "source": [
    "# Data Abstraction  can be achieved through creating abstract classes and inheriting them later."
   ]
  },
  {
   "cell_type": "code",
   "execution_count": 40,
   "id": "33b52c78-3bd0-48c1-8859-2c64fcd82f53",
   "metadata": {},
   "outputs": [
    {
     "data": {
      "text/plain": [
       "'Q5. Can we create an instance of an abstract class? Explain your answer.'"
      ]
     },
     "execution_count": 40,
     "metadata": {},
     "output_type": "execute_result"
    }
   ],
   "source": [
    "'''Q5. Can we create an instance of an abstract class? Explain your answer.'''"
   ]
  },
  {
   "cell_type": "code",
   "execution_count": null,
   "id": "87b8a609-689e-46b1-829c-e5ab573424d9",
   "metadata": {},
   "outputs": [],
   "source": [
    "# No we can not create an instance of a abstract class because abstract class is a blueprint and abstract class is not defined fully"
   ]
  }
 ],
 "metadata": {
  "kernelspec": {
   "display_name": "Python 3 (ipykernel)",
   "language": "python",
   "name": "python3"
  },
  "language_info": {
   "codemirror_mode": {
    "name": "ipython",
    "version": 3
   },
   "file_extension": ".py",
   "mimetype": "text/x-python",
   "name": "python",
   "nbconvert_exporter": "python",
   "pygments_lexer": "ipython3",
   "version": "3.10.8"
  }
 },
 "nbformat": 4,
 "nbformat_minor": 5
}
