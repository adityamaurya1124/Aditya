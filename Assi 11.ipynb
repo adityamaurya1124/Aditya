{
 "cells": [
  {
   "cell_type": "code",
   "execution_count": 1,
   "id": "0baf9aa9-9ad8-4745-99e4-9c589ca687fb",
   "metadata": {},
   "outputs": [
    {
     "data": {
      "text/plain": [
       "'Q1. What is multiprocessing in python? Why is it useful? '"
      ]
     },
     "execution_count": 1,
     "metadata": {},
     "output_type": "execute_result"
    }
   ],
   "source": [
    "'''Q1. What is multiprocessing in python? Why is it useful? '''"
   ]
  },
  {
   "cell_type": "code",
   "execution_count": 2,
   "id": "b46e966c-2341-4f03-8c00-3129058b2791",
   "metadata": {},
   "outputs": [],
   "source": [
    "# Python's multiprocessing module provides a high-level interface for creating and managing multiple processes. It allows you to take advantage\n",
    "# of multi-core processors and execute tasks concurrently, effectively utilizing the available hardware resources.\n",
    "\n",
    "# 1) Multiprocessing allows you to perform tasks in parallel, which can significantly speed up the execution of CPU-bound tasks.\n",
    "# 2) Multiprocessing helps you make efficient use of these cores by distributing tasks among them.\n",
    "# 3) Each process runs in its own isolated memory space, reducing the risk of data corruption or interference between processes.\n",
    "# 4) Multiprocessing can help you scale your application to take advantage of high-performance computing resources in a cluster or cloud\n",
    "#    environment."
   ]
  },
  {
   "cell_type": "code",
   "execution_count": 3,
   "id": "e1c85f16-d53b-4b79-8621-0b7cdbc40832",
   "metadata": {},
   "outputs": [
    {
     "data": {
      "text/plain": [
       "'Q2. What are the differences between multiprocessing and multithreading?'"
      ]
     },
     "execution_count": 3,
     "metadata": {},
     "output_type": "execute_result"
    }
   ],
   "source": [
    "'''Q2. What are the differences between multiprocessing and multithreading?'''"
   ]
  },
  {
   "cell_type": "code",
   "execution_count": 4,
   "id": "3babf182-50d4-44ab-9a3b-b588d3b06ff4",
   "metadata": {},
   "outputs": [],
   "source": [
    "# multiprocessing - 1) Processes are fully isolated from each other, which means they do not share memory.\n",
    "#                   2) Since each process runs independently in a separate interpreter, it can take full advantage of multiple CPU cores or \n",
    "#                      processors, achieving true parallelism.\n",
    "#                   3) Processes are more portable and can take full advantage of multiple cores on various platforms and operating systems.\n",
    "\n",
    "# multithreading - 1) Threads share the same memory space, which can lead to potential issues like data races and thread interference if not \n",
    "#                     carefully managed.\n",
    "#                  2) Multithreading can also achieve parallelism, but due to Python's Global Interpreter Lock (GIL), only one thread can execute\n",
    "#                     Python code at a time. This limitation means that threads may not fully utilize multiple CPU cores for CPU-bound tasks.\n",
    "#                  3) Multithreading is less portable because the effectiveness of threads depends on the Global Interpreter Lock (GIL) in \n",
    "#                     Python,which can vary between different Python implementations and versions."
   ]
  },
  {
   "cell_type": "code",
   "execution_count": 5,
   "id": "21023d17-b76a-4d82-92e2-67247cdbf32d",
   "metadata": {},
   "outputs": [
    {
     "data": {
      "text/plain": [
       "'Q3. Write a python code to create a process using the multiprocessing module.'"
      ]
     },
     "execution_count": 5,
     "metadata": {},
     "output_type": "execute_result"
    }
   ],
   "source": [
    "'''Q3. Write a python code to create a process using the multiprocessing module.'''"
   ]
  },
  {
   "cell_type": "code",
   "execution_count": 6,
   "id": "846c155a-0b6e-4dc1-8806-dda12594f704",
   "metadata": {},
   "outputs": [
    {
     "name": "stdout",
     "output_type": "stream",
     "text": [
      "Child process: 1\n",
      "Child process: 2\n",
      "Child process: 3\n",
      "Child process: 4\n",
      "Child process: 5\n",
      "Main process: 1\n",
      "Main process: 2\n",
      "Main process: 3\n",
      "Main process: 4\n",
      "Main process: 5\n"
     ]
    }
   ],
   "source": [
    "import multiprocessing\n",
    "\n",
    "def print_numbers():\n",
    "    for i in range(1, 6):\n",
    "        print(f\"Child process: {i}\")\n",
    "\n",
    "if __name__ == \"__main__\":\n",
    "    \n",
    "    child_process = multiprocessing.Process(target=print_numbers)\n",
    "\n",
    "    child_process.start()\n",
    "\n",
    "    child_process.join()\n",
    "\n",
    "    for i in range(1, 6):\n",
    "        print(f\"Main process: {i}\")\n"
   ]
  },
  {
   "cell_type": "code",
   "execution_count": 7,
   "id": "0144ac8d-67f6-45bf-9903-a54198c1232e",
   "metadata": {},
   "outputs": [
    {
     "data": {
      "text/plain": [
       "'Q4. What is a multiprocessing pool in python? Why is it used?'"
      ]
     },
     "execution_count": 7,
     "metadata": {},
     "output_type": "execute_result"
    }
   ],
   "source": [
    "'''Q4. What is a multiprocessing pool in python? Why is it used?'''"
   ]
  },
  {
   "cell_type": "code",
   "execution_count": 8,
   "id": "5f75a547-8eed-43b8-afe2-1945f8205bae",
   "metadata": {},
   "outputs": [],
   "source": [
    "# A multiprocessing pool in Python, specifically provided by the multiprocessing module, is a high-level abstraction for creating and managing \n",
    "# a group of worker processes. These worker processes can execute a function concurrently, distributing tasks among them. The primary purpose of\n",
    "# a multiprocessing pool is to simplify parallel execution of tasks, making it easier to harness the power of multi-core processors and achieve\n",
    "# parallelism in Python programs.\n",
    "\n",
    "# MULTIPROCESSING IS USED FOR-\n",
    "\n",
    "# 1) Multiprocessing pools allow you to perform multiple tasks concurrently, utilizing all available CPU cores or processors. \n",
    "# 2) You can submit a list of tasks to the pool, and it takes care of distributing these tasks among the available worker processes.\n",
    "# 3) The pool can automatically distribute tasks efficiently, ensuring that each worker process gets an approximately equal share of\n",
    "#    the workload."
   ]
  },
  {
   "cell_type": "code",
   "execution_count": 9,
   "id": "929e356a-3b20-487b-9fe2-7fcf4ff55413",
   "metadata": {},
   "outputs": [
    {
     "data": {
      "text/plain": [
       "'Q5. How can we create a pool of worker processes in python using the multiprocessing module?'"
      ]
     },
     "execution_count": 9,
     "metadata": {},
     "output_type": "execute_result"
    }
   ],
   "source": [
    "'''Q5. How can we create a pool of worker processes in python using the multiprocessing module?'''"
   ]
  },
  {
   "cell_type": "code",
   "execution_count": 10,
   "id": "9b9cd78c-666e-400d-8041-3cc4239922a8",
   "metadata": {},
   "outputs": [
    {
     "name": "stdout",
     "output_type": "stream",
     "text": [
      "[2, 4, 6, 8, 10]\n"
     ]
    }
   ],
   "source": [
    "import multiprocessing\n",
    "\n",
    "def worker_function(argument):\n",
    "    result = argument * 2\n",
    "    return result\n",
    "\n",
    "if __name__ == \"__main__\":\n",
    "    with multiprocessing.Pool(processes=4) as pool:\n",
    "        l = [1, 2, 3, 4, 5]\n",
    "        final_result = pool.map(worker_function, l)\n",
    "    \n",
    "    print(final_result)\n"
   ]
  },
  {
   "cell_type": "code",
   "execution_count": 12,
   "id": "43f9316a-87c7-4ee7-bb04-e6c67ffede67",
   "metadata": {},
   "outputs": [
    {
     "data": {
      "text/plain": [
       "'Q6. Write a python program to create 4 processes, each process should print a different number using the multiprocessing module in python.'"
      ]
     },
     "execution_count": 12,
     "metadata": {},
     "output_type": "execute_result"
    }
   ],
   "source": [
    "'''Q6. Write a python program to create 4 processes, each process should print a different number using the multiprocessing module in python.'''"
   ]
  },
  {
   "cell_type": "code",
   "execution_count": 13,
   "id": "2610a0e2-fcf8-4260-8b87-fdf2668c0dc6",
   "metadata": {},
   "outputs": [
    {
     "name": "stdout",
     "output_type": "stream",
     "text": [
      "Process 1: 1\n",
      "Process 2: 2\n",
      "Process 3: 3\n",
      "Process 4: 4\n"
     ]
    }
   ],
   "source": [
    "import multiprocessing\n",
    "\n",
    "def print_number(number):\n",
    "    print(f\"Process {number}: {number}\")\n",
    "\n",
    "if __name__ == \"__main__\":\n",
    "    \n",
    "    numbers = [1, 2, 3, 4]\n",
    "    \n",
    "    l = []\n",
    "    for num in numbers:\n",
    "        process = multiprocessing.Process(target=print_number, args=(num,))\n",
    "        processes.append(process)\n",
    "\n",
    "    for process in processes:\n",
    "        process.start()\n",
    "        \n",
    "    for process in processes:\n",
    "        process.join()\n"
   ]
  },
  {
   "cell_type": "code",
   "execution_count": null,
   "id": "6aa6e5ca-cc63-4670-bee7-2a29a65c7237",
   "metadata": {},
   "outputs": [],
   "source": []
  }
 ],
 "metadata": {
  "kernelspec": {
   "display_name": "Python 3 (ipykernel)",
   "language": "python",
   "name": "python3"
  },
  "language_info": {
   "codemirror_mode": {
    "name": "ipython",
    "version": 3
   },
   "file_extension": ".py",
   "mimetype": "text/x-python",
   "name": "python",
   "nbconvert_exporter": "python",
   "pygments_lexer": "ipython3",
   "version": "3.10.8"
  }
 },
 "nbformat": 4,
 "nbformat_minor": 5
}
