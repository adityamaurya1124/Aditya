{
 "cells": [
  {
   "cell_type": "code",
   "execution_count": 1,
   "id": "b56058ca-b89f-46cb-918f-cfa72bbc4999",
   "metadata": {},
   "outputs": [
    {
     "data": {
      "text/plain": [
       "'Q1. Explain Class and Object with respect to Object-Oriented Programming. Give a suitable example.'"
      ]
     },
     "execution_count": 1,
     "metadata": {},
     "output_type": "execute_result"
    }
   ],
   "source": [
    "'''Q1. Explain Class and Object with respect to Object-Oriented Programming. Give a suitable example.'''"
   ]
  },
  {
   "cell_type": "code",
   "execution_count": 2,
   "id": "c081b4b4-0b23-4f56-9ff9-b5be991c4db5",
   "metadata": {},
   "outputs": [],
   "source": [
    "#  A class is a blueprint or a template for creating objects. It defines the properties or fields and methods\n",
    "#  (functions or behaviors) that objects of that class will have."
   ]
  },
  {
   "cell_type": "code",
   "execution_count": 3,
   "id": "4269b0ea-65d7-4ed7-ae7c-635850d80633",
   "metadata": {},
   "outputs": [],
   "source": [
    "# An object is an instance of a class. It represents a specific, tangible entity that adheres to the structure\n",
    "# and behavior defined by the class."
   ]
  },
  {
   "cell_type": "code",
   "execution_count": 7,
   "id": "ceb603d7-7e7d-43c9-abe1-84e4ca2ab8bf",
   "metadata": {},
   "outputs": [],
   "source": [
    "class vehicle:                               # Here we can see a example of a class that defines a property of a vehicle.\n",
    "    \n",
    "    def __init__(self,company,model,colour):\n",
    "        self.company=company\n",
    "        self.model=model\n",
    "        self.colour=colour"
   ]
  },
  {
   "cell_type": "code",
   "execution_count": 13,
   "id": "7c8e6c49-32dc-4274-922c-b70fe657843b",
   "metadata": {},
   "outputs": [],
   "source": [
    "car=vehicle('Toyata','fortuner','Black')     # This is a example of object whoes behaviour is defined by the class"
   ]
  },
  {
   "cell_type": "code",
   "execution_count": 14,
   "id": "267556ca-bf16-4b1c-bbc8-182e24034998",
   "metadata": {},
   "outputs": [
    {
     "data": {
      "text/plain": [
       "'Toyata'"
      ]
     },
     "execution_count": 14,
     "metadata": {},
     "output_type": "execute_result"
    }
   ],
   "source": [
    "car.company"
   ]
  },
  {
   "cell_type": "code",
   "execution_count": 15,
   "id": "17079ddf-f342-405f-89e8-87f8a1b27bfa",
   "metadata": {},
   "outputs": [
    {
     "data": {
      "text/plain": [
       "'Black'"
      ]
     },
     "execution_count": 15,
     "metadata": {},
     "output_type": "execute_result"
    }
   ],
   "source": [
    "car.colour"
   ]
  },
  {
   "cell_type": "code",
   "execution_count": 16,
   "id": "011dbd64-e389-47f3-8cc1-4a14eb1e1375",
   "metadata": {},
   "outputs": [
    {
     "data": {
      "text/plain": [
       "'Q2. Name the four pillars of OOPs.'"
      ]
     },
     "execution_count": 16,
     "metadata": {},
     "output_type": "execute_result"
    }
   ],
   "source": [
    "'''Q2. Name the four pillars of OOPs.'''"
   ]
  },
  {
   "cell_type": "code",
   "execution_count": 17,
   "id": "59d415ec-fddf-4df0-b41f-ff7e27b14436",
   "metadata": {},
   "outputs": [],
   "source": [
    "# The four pillers of OOPs is -\n",
    "# 1) Encapsulation = Encapsulation helps in data hiding and protecting the integrity of the object's state.\n",
    "\n",
    "# 2) Inheritance = Inheritance is one of the fundamental concepts in OOPs that allows to inherit the \n",
    "#                  functions of existing class to the new class.\n",
    "\n",
    "# 3) Polymorphism = In Polymorphism we can inherit the properties of parent class in clild class.\n",
    "\n",
    "# 4) Abstraction = Abstraction is a process of handling complexity  by hiding unnecessary information \n",
    "#                  from the user."
   ]
  },
  {
   "cell_type": "code",
   "execution_count": 18,
   "id": "bd97cd51-a89b-461b-bd7e-5566db3977b2",
   "metadata": {},
   "outputs": [
    {
     "data": {
      "text/plain": [
       "'Q3. Explain why the __init__() function is used. Give a suitable example.'"
      ]
     },
     "execution_count": 18,
     "metadata": {},
     "output_type": "execute_result"
    }
   ],
   "source": [
    "'''Q3. Explain why the __init__() function is used. Give a suitable example.'''"
   ]
  },
  {
   "cell_type": "code",
   "execution_count": 19,
   "id": "1dc822aa-a4d3-4ea9-b4c1-1b9707739925",
   "metadata": {},
   "outputs": [],
   "source": [
    "#   __init__ function is also known as constructer method. The __init__ method lets the class initialize\n",
    "#  the object’s attributes and serves no other purpose.It is only used within classes."
   ]
  },
  {
   "cell_type": "code",
   "execution_count": 20,
   "id": "d5410e82-afc1-46dc-9150-9c48a71c0678",
   "metadata": {},
   "outputs": [],
   "source": [
    "class student:\n",
    "    def __init__(self,name,email_id,phone_number):\n",
    "        self.name=name\n",
    "        self.email_id=email_id\n",
    "        self.phone_number=phone_number"
   ]
  },
  {
   "cell_type": "code",
   "execution_count": 21,
   "id": "b97f43fb-2741-4dc3-89dc-244827b69e2c",
   "metadata": {},
   "outputs": [],
   "source": [
    "pw=student('aditya','adi@gmail.com',9876543210)"
   ]
  },
  {
   "cell_type": "code",
   "execution_count": 22,
   "id": "f1a1c92e-57b7-46fc-8b89-bb2b6732d2ed",
   "metadata": {},
   "outputs": [
    {
     "data": {
      "text/plain": [
       "'adi@gmail.com'"
      ]
     },
     "execution_count": 22,
     "metadata": {},
     "output_type": "execute_result"
    }
   ],
   "source": [
    "pw.email_id"
   ]
  },
  {
   "cell_type": "code",
   "execution_count": 23,
   "id": "2fc14639-4f6a-403a-a6a8-86af3d5e8a84",
   "metadata": {},
   "outputs": [
    {
     "data": {
      "text/plain": [
       "'Q4. Why self is used in OOPs?'"
      ]
     },
     "execution_count": 23,
     "metadata": {},
     "output_type": "execute_result"
    }
   ],
   "source": [
    "'''Q4. Why self is used in OOPs?'''"
   ]
  },
  {
   "cell_type": "code",
   "execution_count": 24,
   "id": "1229d6e1-8156-4e06-a586-7851ef66ecc0",
   "metadata": {},
   "outputs": [],
   "source": [
    "# self is used in OOPs becauese it binds the attribute to the class "
   ]
  },
  {
   "cell_type": "code",
   "execution_count": 25,
   "id": "1de2370d-0e27-47c4-8044-6bf8e74341cd",
   "metadata": {},
   "outputs": [
    {
     "data": {
      "text/plain": [
       "'Q5. What is inheritance? Give an example for each type of inheritance.'"
      ]
     },
     "execution_count": 25,
     "metadata": {},
     "output_type": "execute_result"
    }
   ],
   "source": [
    "'''Q5. What is inheritance? Give an example for each type of inheritance.'''"
   ]
  },
  {
   "cell_type": "code",
   "execution_count": 26,
   "id": "d6b6364e-4f34-4759-ac23-90e0d754a425",
   "metadata": {},
   "outputs": [],
   "source": [
    "# Inheritance is one of the fundamental concepts in OOPs that allows to inherit the \n",
    "# functions of existing class to the new class."
   ]
  },
  {
   "cell_type": "code",
   "execution_count": 27,
   "id": "8c07bbb8-68ab-4150-98ea-ec55a084fdb6",
   "metadata": {},
   "outputs": [],
   "source": [
    "class car:\n",
    "    def wheels(self):\n",
    "        print('It has 4 wheel')"
   ]
  },
  {
   "cell_type": "code",
   "execution_count": 30,
   "id": "d08873f7-258e-4bc9-bad0-b3ebf4c63d42",
   "metadata": {},
   "outputs": [],
   "source": [
    "class toyata(car):\n",
    "    pass"
   ]
  },
  {
   "cell_type": "code",
   "execution_count": 34,
   "id": "7f9fa658-4799-43ab-91e2-0e7acc58af58",
   "metadata": {},
   "outputs": [],
   "source": [
    "toyata_obj=toyata()"
   ]
  },
  {
   "cell_type": "code",
   "execution_count": 36,
   "id": "30f111d7-7515-47ad-bfd5-47aa2758f07e",
   "metadata": {},
   "outputs": [
    {
     "name": "stdout",
     "output_type": "stream",
     "text": [
      "It has 4 wheel\n"
     ]
    }
   ],
   "source": [
    "toyata_obj.wheels()  # here we can see the toyata_obj can acess the car class at"
   ]
  },
  {
   "cell_type": "code",
   "execution_count": null,
   "id": "21aa8310-7949-425b-9863-569054641241",
   "metadata": {},
   "outputs": [],
   "source": []
  }
 ],
 "metadata": {
  "kernelspec": {
   "display_name": "Python 3 (ipykernel)",
   "language": "python",
   "name": "python3"
  },
  "language_info": {
   "codemirror_mode": {
    "name": "ipython",
    "version": 3
   },
   "file_extension": ".py",
   "mimetype": "text/x-python",
   "name": "python",
   "nbconvert_exporter": "python",
   "pygments_lexer": "ipython3",
   "version": "3.10.8"
  }
 },
 "nbformat": 4,
 "nbformat_minor": 5
}
