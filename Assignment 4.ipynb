{
 "cells": [
  {
   "cell_type": "code",
   "execution_count": 1,
   "id": "c9c447c1-722f-405e-928b-730ed9bd0365",
   "metadata": {},
   "outputs": [],
   "source": [
    "# Q1. Create a python program to sort the given list of tuples based on integer value using a \n",
    "#     lambda function. \n",
    "\n",
    "\n",
    "#      [('Sachin Tendulkar', 34357), ('Ricky Ponting', 27483), ('Jack Kallis', 25534), ('Virat Kohli', 24936)]"
   ]
  },
  {
   "cell_type": "code",
   "execution_count": 2,
   "id": "18672df9-bb07-412f-a8d2-dc5ea5233504",
   "metadata": {},
   "outputs": [],
   "source": [
    "l= [('Sachin Tendulkar', 34357), ('Ricky Ponting', 27483), ('Jack Kallis', 25534), ('Virat Kohli', 24936)]"
   ]
  },
  {
   "cell_type": "code",
   "execution_count": 6,
   "id": "9a392405-6788-47cd-9b83-8b4086adc833",
   "metadata": {},
   "outputs": [],
   "source": [
    "s=sorted(l, key=lambda x: x[1])"
   ]
  },
  {
   "cell_type": "code",
   "execution_count": 8,
   "id": "140f946f-d5f9-43ed-8560-b5d80be5aec1",
   "metadata": {},
   "outputs": [
    {
     "name": "stdout",
     "output_type": "stream",
     "text": [
      "('Virat Kohli', 24936)\n",
      "('Jack Kallis', 25534)\n",
      "('Ricky Ponting', 27483)\n",
      "('Sachin Tendulkar', 34357)\n"
     ]
    }
   ],
   "source": [
    "for i in s:\n",
    "    print(i)"
   ]
  },
  {
   "cell_type": "code",
   "execution_count": 9,
   "id": "5afdb396-4d66-44c0-975e-cc7f23f94a6d",
   "metadata": {},
   "outputs": [],
   "source": [
    "# Q2. Write a Python Program to find the squares of all the numbers in the given list of integers using \n",
    "#     lambda and map functions.\n",
    "\n",
    "\n",
    "#      [1, 2, 3, 4, 5, 6, 7, 8, 9, 10]"
   ]
  },
  {
   "cell_type": "code",
   "execution_count": 10,
   "id": "b6b38d8c-074c-4aaa-8cb0-8126845005dd",
   "metadata": {},
   "outputs": [],
   "source": [
    "l1=  [1, 2, 3, 4, 5, 6, 7, 8, 9, 10]"
   ]
  },
  {
   "cell_type": "code",
   "execution_count": 11,
   "id": "cd75d341-d204-4289-b81b-7dec5c9dce00",
   "metadata": {},
   "outputs": [
    {
     "data": {
      "text/plain": [
       "[1, 4, 9, 16, 25, 36, 49, 64, 81, 100]"
      ]
     },
     "execution_count": 11,
     "metadata": {},
     "output_type": "execute_result"
    }
   ],
   "source": [
    "list(map(lambda x:x**2 ,l1))"
   ]
  },
  {
   "cell_type": "code",
   "execution_count": 12,
   "id": "e229595e-8a8f-425b-9e8d-455e7df3a026",
   "metadata": {},
   "outputs": [],
   "source": [
    "# Q3. Write a python program to convert the given list of integers into a tuple of strings. Use map and \n",
    "#     lambda functions\n",
    "\n",
    "\n",
    "#     Given String: [1, 2, 3, 4, 5, 6, 7, 8, 9, 10]\n",
    "\n",
    "#     Expected output: ('1', '2', '3', '4', '5', '6', '7', '8', '9', '10')"
   ]
  },
  {
   "cell_type": "code",
   "execution_count": 13,
   "id": "7574128b-0dc4-4bfb-a0e1-c8cf3ba06922",
   "metadata": {},
   "outputs": [],
   "source": [
    "l2= [1, 2, 3, 4, 5, 6, 7, 8, 9, 10]"
   ]
  },
  {
   "cell_type": "code",
   "execution_count": 20,
   "id": "91214609-2040-44d0-8e9d-6b81175ed849",
   "metadata": {},
   "outputs": [
    {
     "data": {
      "text/plain": [
       "('1', '2', '3', '4', '5', '6', '7', '8', '9', '10')"
      ]
     },
     "execution_count": 20,
     "metadata": {},
     "output_type": "execute_result"
    }
   ],
   "source": [
    "tuple(map(lambda x:str(x) ,l2))"
   ]
  },
  {
   "cell_type": "code",
   "execution_count": 21,
   "id": "9c2170d4-7cc2-43f3-b0f0-45b4edd670dd",
   "metadata": {},
   "outputs": [],
   "source": [
    "# Q4.  Write a python program using reduce function to compute the product of a list containing numbers \n",
    "#      from 1 to 25."
   ]
  },
  {
   "cell_type": "code",
   "execution_count": 22,
   "id": "cd4c1114-1395-466b-bec4-968baa43686b",
   "metadata": {},
   "outputs": [],
   "source": [
    "from functools import reduce"
   ]
  },
  {
   "cell_type": "code",
   "execution_count": 24,
   "id": "fcc2f4f7-e2cc-443c-bdf1-fb889acf361b",
   "metadata": {},
   "outputs": [],
   "source": [
    "n=list(range(1,26))"
   ]
  },
  {
   "cell_type": "code",
   "execution_count": 31,
   "id": "67565231-533b-4d36-8a24-232bd7e8748b",
   "metadata": {},
   "outputs": [],
   "source": [
    "p=reduce(lambda x,y:x*y,n)"
   ]
  },
  {
   "cell_type": "code",
   "execution_count": 32,
   "id": "f9810c74-03f0-42c8-a943-bb95563238eb",
   "metadata": {},
   "outputs": [
    {
     "name": "stdout",
     "output_type": "stream",
     "text": [
      "15511210043330985984000000\n"
     ]
    }
   ],
   "source": [
    "print(p)"
   ]
  },
  {
   "cell_type": "code",
   "execution_count": 33,
   "id": "4ea4b7b8-0c50-45c5-931a-5c13512ad564",
   "metadata": {},
   "outputs": [],
   "source": [
    "# Q5. Write a python program to filter the numbers in a given list that are divisible by 2 and 3 using the \n",
    "#     filter function.\n",
    "\n",
    "\n",
    "#     [2, 3, 6, 9, 27, 60, 90, 120, 55, 46]"
   ]
  },
  {
   "cell_type": "code",
   "execution_count": 34,
   "id": "74427b3e-44f3-4ea1-a574-702155b23679",
   "metadata": {},
   "outputs": [],
   "source": [
    "l3=  [2, 3, 6, 9, 27, 60, 90, 120, 55, 46]"
   ]
  },
  {
   "cell_type": "code",
   "execution_count": 40,
   "id": "7c0a229d-bb5b-4e3d-94c0-1503aa7a5816",
   "metadata": {},
   "outputs": [
    {
     "data": {
      "text/plain": [
       "[2, 3, 6, 9, 27, 60, 90, 120, 46]"
      ]
     },
     "execution_count": 40,
     "metadata": {},
     "output_type": "execute_result"
    }
   ],
   "source": [
    "list(filter(lambda x:x%2==0 or x%3==0 ,l3))"
   ]
  },
  {
   "cell_type": "code",
   "execution_count": 42,
   "id": "3dd99946-5cfa-4ce9-9ddd-937b40889619",
   "metadata": {},
   "outputs": [],
   "source": [
    "# Q6. Write a python program to find palindromes in the given list of strings using lambda and filter \n",
    "#     function.\n",
    "\n",
    "\n",
    "#     ['python', 'php', 'aba', 'radar', 'level']"
   ]
  },
  {
   "cell_type": "code",
   "execution_count": 43,
   "id": "3dcc7f72-6c9f-459b-ac17-79980ac2f45f",
   "metadata": {},
   "outputs": [],
   "source": [
    "l4=['python', 'php', 'aba', 'radar', 'level']"
   ]
  },
  {
   "cell_type": "code",
   "execution_count": 45,
   "id": "09f890c1-7be5-499b-9ad0-1485a406bad1",
   "metadata": {},
   "outputs": [
    {
     "ename": "TypeError",
     "evalue": "filter expected 2 arguments, got 1",
     "output_type": "error",
     "traceback": [
      "\u001b[0;31m---------------------------------------------------------------------------\u001b[0m",
      "\u001b[0;31mTypeError\u001b[0m                                 Traceback (most recent call last)",
      "Cell \u001b[0;32mIn[45], line 1\u001b[0m\n\u001b[0;32m----> 1\u001b[0m \u001b[38;5;28mlist\u001b[39m(\u001b[38;5;28;43mfilter\u001b[39;49m\u001b[43m(\u001b[49m\u001b[38;5;28;43;01mlambda\u001b[39;49;00m\u001b[43m \u001b[49m\u001b[43mx\u001b[49m\u001b[43m \u001b[49m\u001b[43m:\u001b[49m\u001b[43m \u001b[49m\u001b[43mx\u001b[49m\u001b[43m[\u001b[49m\u001b[43m:\u001b[49m\u001b[43m:\u001b[49m\u001b[38;5;241;43m-\u001b[39;49m\u001b[38;5;241;43m1\u001b[39;49m\u001b[43m]\u001b[49m\u001b[43m)\u001b[49m,l4)\n",
      "\u001b[0;31mTypeError\u001b[0m: filter expected 2 arguments, got 1"
     ]
    }
   ],
   "source": [
    "list(filter(lambda x :x==x))"
   ]
  },
  {
   "cell_type": "code",
   "execution_count": null,
   "id": "c5fba67b-572e-458e-82f8-ccd6f852f5bc",
   "metadata": {},
   "outputs": [],
   "source": []
  }
 ],
 "metadata": {
  "kernelspec": {
   "display_name": "Python 3 (ipykernel)",
   "language": "python",
   "name": "python3"
  },
  "language_info": {
   "codemirror_mode": {
    "name": "ipython",
    "version": 3
   },
   "file_extension": ".py",
   "mimetype": "text/x-python",
   "name": "python",
   "nbconvert_exporter": "python",
   "pygments_lexer": "ipython3",
   "version": "3.10.8"
  }
 },
 "nbformat": 4,
 "nbformat_minor": 5
}
