{
 "cells": [
  {
   "cell_type": "code",
   "execution_count": 1,
   "id": "aaffe8f6-37ed-47ac-a363-0c4589712c60",
   "metadata": {},
   "outputs": [],
   "source": [
    "# Q1. Which keyword is used to create a function? Create a function to return a list of odd numbers in the \n",
    "#      range of 1 to 25."
   ]
  },
  {
   "cell_type": "code",
   "execution_count": 2,
   "id": "8cf22c3f-9b0a-45d1-8441-961a70f3a385",
   "metadata": {},
   "outputs": [],
   "source": [
    "# def keyword is used to create function"
   ]
  },
  {
   "cell_type": "code",
   "execution_count": 3,
   "id": "2b2b319a-1dbc-4feb-bcc6-eff5f128ba6f",
   "metadata": {},
   "outputs": [
    {
     "data": {
      "text/plain": [
       "range(1, 25)"
      ]
     },
     "execution_count": 3,
     "metadata": {},
     "output_type": "execute_result"
    }
   ],
   "source": [
    "range(1,25)"
   ]
  },
  {
   "cell_type": "code",
   "execution_count": 14,
   "id": "7dbd13bb-03bb-4971-9f7c-8459562e1b61",
   "metadata": {},
   "outputs": [],
   "source": [
    "def odd():\n",
    "    l=[]\n",
    "    for i in range(1,26):\n",
    "        if i%2!=0:\n",
    "            l.append(i)\n",
    "    return l    "
   ]
  },
  {
   "cell_type": "code",
   "execution_count": 16,
   "id": "00f95b43-f747-4864-a3c3-f6258ecd6ae7",
   "metadata": {},
   "outputs": [
    {
     "data": {
      "text/plain": [
       "[1, 3, 5, 7, 9, 11, 13, 15, 17, 19, 21, 23, 25]"
      ]
     },
     "execution_count": 16,
     "metadata": {},
     "output_type": "execute_result"
    }
   ],
   "source": [
    "odd()"
   ]
  },
  {
   "cell_type": "code",
   "execution_count": 17,
   "id": "3c756d50-2257-429e-80ad-f0aa36406039",
   "metadata": {},
   "outputs": [],
   "source": [
    "# Q2. Why *args and **kwargs is used in some functions? Create a function each for *args and **kwargs \n",
    "#     to demonstrate their use"
   ]
  },
  {
   "cell_type": "code",
   "execution_count": 18,
   "id": "eb975c99-6d1d-4f3c-8327-0a1c5143073e",
   "metadata": {},
   "outputs": [],
   "source": [
    "# *args is use to pass arguments in a function\n",
    "# **kwargs is used for pass a argument with keyword and the results in the dictonary format"
   ]
  },
  {
   "cell_type": "code",
   "execution_count": 1,
   "id": "8af3909f-6c14-4fb7-b88d-dea194a91d42",
   "metadata": {},
   "outputs": [],
   "source": [
    "def test(*args):\n",
    "    return args"
   ]
  },
  {
   "cell_type": "code",
   "execution_count": 2,
   "id": "2a321254-6281-4c43-b14d-6c645c6eced8",
   "metadata": {},
   "outputs": [
    {
     "data": {
      "text/plain": [
       "(1, 2, 3, 'aditya')"
      ]
     },
     "execution_count": 2,
     "metadata": {},
     "output_type": "execute_result"
    }
   ],
   "source": [
    "test(1,2,3,'aditya')"
   ]
  },
  {
   "cell_type": "code",
   "execution_count": 3,
   "id": "946c08d6-2060-43e7-9afb-da6dc9c70ab4",
   "metadata": {},
   "outputs": [],
   "source": [
    "def test1(**kwargs):\n",
    "    return kwargs"
   ]
  },
  {
   "cell_type": "code",
   "execution_count": 9,
   "id": "9b57f66c-d026-4297-aa37-aed62358b9d4",
   "metadata": {},
   "outputs": [
    {
     "data": {
      "text/plain": [
       "{'a': [1, 2, 3], 'b': 'adi', 'c': True}"
      ]
     },
     "execution_count": 9,
     "metadata": {},
     "output_type": "execute_result"
    }
   ],
   "source": [
    "test1(a=[1,2,3],b='adi',c=True)"
   ]
  },
  {
   "cell_type": "code",
   "execution_count": 12,
   "id": "e3ff1b89-21a1-450e-b950-38144d540634",
   "metadata": {},
   "outputs": [],
   "source": [
    "# Q3.  What is an iterator in python? Name the method used to initialise the iterator object and the method \n",
    "#      used for iteration. Use these methods to print the first five elements of the given list [2, 4, 6, 8,\n",
    "#      10, 12, 14 ,16, 18, 20]."
   ]
  },
  {
   "cell_type": "code",
   "execution_count": 15,
   "id": "d16a7f2b-ae8c-423d-82d4-e3ab652d47ba",
   "metadata": {},
   "outputs": [],
   "source": [
    "# iterator is a container where we put the element for iteration. iteration means extract the value one by\n",
    "# one and method of iteration is next() function"
   ]
  },
  {
   "cell_type": "code",
   "execution_count": 14,
   "id": "b313f23b-08a6-4707-b6cd-3b00d38c7c28",
   "metadata": {},
   "outputs": [],
   "source": [
    "l=[2,4,6,8,10,12,14,16,18,20]"
   ]
  },
  {
   "cell_type": "code",
   "execution_count": 17,
   "id": "a4668511-3737-483a-be79-a0a8e96ef8ec",
   "metadata": {},
   "outputs": [],
   "source": [
    "a=iter(l)     # First we change list into iter"
   ]
  },
  {
   "cell_type": "code",
   "execution_count": 18,
   "id": "a1791f62-8f0a-4eb1-9ede-4c1e1abdb775",
   "metadata": {},
   "outputs": [
    {
     "name": "stdout",
     "output_type": "stream",
     "text": [
      "2\n",
      "4\n",
      "6\n",
      "8\n",
      "10\n"
     ]
    }
   ],
   "source": [
    "for i in range(5):\n",
    "    b = next(a)\n",
    "    print(b)"
   ]
  },
  {
   "cell_type": "code",
   "execution_count": 19,
   "id": "3dce004d-6f66-407d-a404-4929d6e3b39e",
   "metadata": {},
   "outputs": [],
   "source": [
    "# Q4.  What is a generator function in python? Why yield keyword is used? Give an example of a generator \n",
    "#      function."
   ]
  },
  {
   "cell_type": "code",
   "execution_count": 20,
   "id": "82b44198-33ef-43dd-ae0e-289873bfacc0",
   "metadata": {},
   "outputs": [],
   "source": [
    "# generator function is used to create a iterator in a memory efficiency way and yield is used because it \n",
    "# it produce sequence value once at a time"
   ]
  },
  {
   "cell_type": "code",
   "execution_count": 1,
   "id": "2293e15a-cb7b-41a0-92bc-4c6f1a635604",
   "metadata": {},
   "outputs": [],
   "source": [
    "#EG= \n",
    "def test_fib(n):\n",
    "    a,b=0,1\n",
    "    for i in range(n):\n",
    "        yield a\n",
    "        a,b = b,a+b\n",
    "    "
   ]
  },
  {
   "cell_type": "code",
   "execution_count": 2,
   "id": "af7334e3-88cd-4e76-bc91-e94d8d441947",
   "metadata": {},
   "outputs": [
    {
     "name": "stdout",
     "output_type": "stream",
     "text": [
      "0\n",
      "1\n",
      "1\n",
      "2\n",
      "3\n",
      "5\n",
      "8\n",
      "13\n",
      "21\n",
      "34\n"
     ]
    }
   ],
   "source": [
    "for i in test_fib(10):\n",
    "    print(i)"
   ]
  },
  {
   "cell_type": "code",
   "execution_count": 3,
   "id": "f6112c4e-4b66-464c-bd8a-e7dd3f8722b4",
   "metadata": {},
   "outputs": [],
   "source": [
    "# Q5. Create a generator function for prime numbers less than 1000. Use the next() method to print the \n",
    "#     first 20 prime numbers."
   ]
  },
  {
   "cell_type": "code",
   "execution_count": null,
   "id": "dd5e4645-45fb-4cee-bee9-ddabd4256289",
   "metadata": {},
   "outputs": [],
   "source": []
  },
  {
   "cell_type": "code",
   "execution_count": 4,
   "id": "8ace3051-043e-4289-afb0-e30f7a45e2d7",
   "metadata": {},
   "outputs": [],
   "source": [
    "# Q6. Write a python program to print the first 10 Fibonacci numbers using a while loop"
   ]
  },
  {
   "cell_type": "code",
   "execution_count": 5,
   "id": "84bd661c-8d31-4e87-b554-d96af85eb892",
   "metadata": {},
   "outputs": [],
   "source": [
    "def test1_fib(n):\n",
    "    a,b=0,1\n",
    "    while True:\n",
    "        yield a\n",
    "        a,b = b,a+b"
   ]
  },
  {
   "cell_type": "code",
   "execution_count": 7,
   "id": "33332718-3c87-401e-b51e-22e410771944",
   "metadata": {},
   "outputs": [],
   "source": [
    "fib = test1_fib(10)"
   ]
  },
  {
   "cell_type": "code",
   "execution_count": 8,
   "id": "9d44d124-2f10-422e-97d5-6dd3cba30543",
   "metadata": {},
   "outputs": [
    {
     "name": "stdout",
     "output_type": "stream",
     "text": [
      "0\n",
      "1\n",
      "1\n",
      "2\n",
      "3\n",
      "5\n",
      "8\n",
      "13\n",
      "21\n",
      "34\n"
     ]
    }
   ],
   "source": [
    "for i in range(10):\n",
    "    print(next(fib))"
   ]
  },
  {
   "cell_type": "code",
   "execution_count": 10,
   "id": "b2d96254-8b95-41fb-94bb-48f08a62b4d5",
   "metadata": {},
   "outputs": [],
   "source": [
    "# Q7. Write a List Comprehension to iterate through the given string: ‘pwskills’.\n",
    "\n",
    "#     Expected output: ['p', 'w', 's', 'k', 'i', 'l', 'l', 's'] "
   ]
  },
  {
   "cell_type": "code",
   "execution_count": 11,
   "id": "dc805f0f-aaca-4b2a-8074-510b3801439c",
   "metadata": {},
   "outputs": [],
   "source": [
    "a='pwskills'"
   ]
  },
  {
   "cell_type": "code",
   "execution_count": 12,
   "id": "b3b02f77-8a57-47b2-bd4d-c14d741df712",
   "metadata": {},
   "outputs": [
    {
     "data": {
      "text/plain": [
       "['p', 'w', 's', 'k', 'i', 'l', 'l', 's']"
      ]
     },
     "execution_count": 12,
     "metadata": {},
     "output_type": "execute_result"
    }
   ],
   "source": [
    "list(map(lambda x:x,a))"
   ]
  },
  {
   "cell_type": "code",
   "execution_count": 13,
   "id": "828dd4ce-0db5-4067-ba3a-97c2ad9940c2",
   "metadata": {},
   "outputs": [],
   "source": [
    "# Q8. Write a python program to check whether a given number is Palindrome or not using a while loop."
   ]
  },
  {
   "cell_type": "code",
   "execution_count": null,
   "id": "6b2be2f3-8b0d-40a8-93ed-827b7357e07c",
   "metadata": {},
   "outputs": [],
   "source": []
  },
  {
   "cell_type": "code",
   "execution_count": 14,
   "id": "5569b5d3-a97a-4cfb-9dc1-bee0aa732b8e",
   "metadata": {},
   "outputs": [],
   "source": [
    "# Q9. Write a code to print odd numbers from 1 to 100 using list comprehension."
   ]
  },
  {
   "cell_type": "code",
   "execution_count": 18,
   "id": "57ad55a2-aa89-4b09-8c56-c66d6870f564",
   "metadata": {},
   "outputs": [],
   "source": [
    "n=[x for x in range(1,101)]"
   ]
  },
  {
   "cell_type": "code",
   "execution_count": 19,
   "id": "26253094-5211-488d-aa2a-bcdac7ed4996",
   "metadata": {},
   "outputs": [
    {
     "data": {
      "text/plain": [
       "[1,\n",
       " 2,\n",
       " 3,\n",
       " 4,\n",
       " 5,\n",
       " 6,\n",
       " 7,\n",
       " 8,\n",
       " 9,\n",
       " 10,\n",
       " 11,\n",
       " 12,\n",
       " 13,\n",
       " 14,\n",
       " 15,\n",
       " 16,\n",
       " 17,\n",
       " 18,\n",
       " 19,\n",
       " 20,\n",
       " 21,\n",
       " 22,\n",
       " 23,\n",
       " 24,\n",
       " 25,\n",
       " 26,\n",
       " 27,\n",
       " 28,\n",
       " 29,\n",
       " 30,\n",
       " 31,\n",
       " 32,\n",
       " 33,\n",
       " 34,\n",
       " 35,\n",
       " 36,\n",
       " 37,\n",
       " 38,\n",
       " 39,\n",
       " 40,\n",
       " 41,\n",
       " 42,\n",
       " 43,\n",
       " 44,\n",
       " 45,\n",
       " 46,\n",
       " 47,\n",
       " 48,\n",
       " 49,\n",
       " 50,\n",
       " 51,\n",
       " 52,\n",
       " 53,\n",
       " 54,\n",
       " 55,\n",
       " 56,\n",
       " 57,\n",
       " 58,\n",
       " 59,\n",
       " 60,\n",
       " 61,\n",
       " 62,\n",
       " 63,\n",
       " 64,\n",
       " 65,\n",
       " 66,\n",
       " 67,\n",
       " 68,\n",
       " 69,\n",
       " 70,\n",
       " 71,\n",
       " 72,\n",
       " 73,\n",
       " 74,\n",
       " 75,\n",
       " 76,\n",
       " 77,\n",
       " 78,\n",
       " 79,\n",
       " 80,\n",
       " 81,\n",
       " 82,\n",
       " 83,\n",
       " 84,\n",
       " 85,\n",
       " 86,\n",
       " 87,\n",
       " 88,\n",
       " 89,\n",
       " 90,\n",
       " 91,\n",
       " 92,\n",
       " 93,\n",
       " 94,\n",
       " 95,\n",
       " 96,\n",
       " 97,\n",
       " 98,\n",
       " 99,\n",
       " 100]"
      ]
     },
     "execution_count": 19,
     "metadata": {},
     "output_type": "execute_result"
    }
   ],
   "source": [
    "n"
   ]
  },
  {
   "cell_type": "code",
   "execution_count": null,
   "id": "3e3ee044-d4f1-4398-a9f5-67d4e2a4c628",
   "metadata": {},
   "outputs": [],
   "source": [
    "odd=[x for x in n if x%2!=0]"
   ]
  }
 ],
 "metadata": {
  "kernelspec": {
   "display_name": "Python 3 (ipykernel)",
   "language": "python",
   "name": "python3"
  },
  "language_info": {
   "codemirror_mode": {
    "name": "ipython",
    "version": 3
   },
   "file_extension": ".py",
   "mimetype": "text/x-python",
   "name": "python",
   "nbconvert_exporter": "python",
   "pygments_lexer": "ipython3",
   "version": "3.10.8"
  }
 },
 "nbformat": 4,
 "nbformat_minor": 5
}
