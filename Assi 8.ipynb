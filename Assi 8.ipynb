{
 "cells": [
  {
   "cell_type": "code",
   "execution_count": 7,
   "id": "ab00d498-d2bf-42e9-a964-191a09d14967",
   "metadata": {},
   "outputs": [
    {
     "data": {
      "text/plain": [
       "'Q1. What is an Exception in python? Write the difference between Exceptions and syntax errors.'"
      ]
     },
     "execution_count": 7,
     "metadata": {},
     "output_type": "execute_result"
    }
   ],
   "source": [
    "'''Q1. What is an Exception in python? Write the difference between Exceptions and syntax errors.'''"
   ]
  },
  {
   "cell_type": "code",
   "execution_count": 8,
   "id": "3993b430-2c53-4805-8bb1-5325ae5e1ded",
   "metadata": {},
   "outputs": [],
   "source": [
    "# Exception is an event that occurs during the execution of a program that disrupts the normal flow of the program's instructions. When any\n",
    "# error is btw the code python rise a Specific error.\n",
    "\n",
    "# Difference between Exception and Syntax error -- Exception error is show between the running code and Syntax error show before the code Start."
   ]
  },
  {
   "cell_type": "code",
   "execution_count": 9,
   "id": "d64aa360-53a7-4a91-ac8f-59f83143ec68",
   "metadata": {},
   "outputs": [
    {
     "data": {
      "text/plain": [
       "'Q2. What happens when an exception is not handled? Explain with an example.'"
      ]
     },
     "execution_count": 9,
     "metadata": {},
     "output_type": "execute_result"
    }
   ],
   "source": [
    "'''Q2. What happens when an exception is not handled? Explain with an example.'''"
   ]
  },
  {
   "cell_type": "code",
   "execution_count": 10,
   "id": "ca617639-01e7-4945-b022-38ad507d0eb2",
   "metadata": {},
   "outputs": [],
   "source": [
    "# when a exception is not handled in python in result program terminat9ing abruptly and show a error on which line program is facing exception."
   ]
  },
  {
   "cell_type": "code",
   "execution_count": 11,
   "id": "2c7816e7-4f61-42bb-bb15-6a60388ecc35",
   "metadata": {},
   "outputs": [
    {
     "ename": "FileNotFoundError",
     "evalue": "[Errno 2] No such file or directory: 'file_not_existing'",
     "output_type": "error",
     "traceback": [
      "\u001b[0;31m---------------------------------------------------------------------------\u001b[0m",
      "\u001b[0;31mFileNotFoundError\u001b[0m                         Traceback (most recent call last)",
      "Cell \u001b[0;32mIn[11], line 1\u001b[0m\n\u001b[0;32m----> 1\u001b[0m \u001b[38;5;28;01mwith\u001b[39;00m \u001b[38;5;28;43mopen\u001b[39;49m\u001b[43m(\u001b[49m\u001b[38;5;124;43m'\u001b[39;49m\u001b[38;5;124;43mfile_not_existing\u001b[39;49m\u001b[38;5;124;43m'\u001b[39;49m\u001b[43m \u001b[49m\u001b[43m,\u001b[49m\u001b[43m \u001b[49m\u001b[38;5;124;43m'\u001b[39;49m\u001b[38;5;124;43mr\u001b[39;49m\u001b[38;5;124;43m'\u001b[39;49m\u001b[43m)\u001b[49m \u001b[38;5;28;01mas\u001b[39;00m file:\n\u001b[1;32m      2\u001b[0m     file\u001b[38;5;241m=\u001b[39mfile_not_existing\u001b[38;5;241m.\u001b[39mread()\n",
      "File \u001b[0;32m/opt/conda/lib/python3.10/site-packages/IPython/core/interactiveshell.py:282\u001b[0m, in \u001b[0;36m_modified_open\u001b[0;34m(file, *args, **kwargs)\u001b[0m\n\u001b[1;32m    275\u001b[0m \u001b[38;5;28;01mif\u001b[39;00m file \u001b[38;5;129;01min\u001b[39;00m {\u001b[38;5;241m0\u001b[39m, \u001b[38;5;241m1\u001b[39m, \u001b[38;5;241m2\u001b[39m}:\n\u001b[1;32m    276\u001b[0m     \u001b[38;5;28;01mraise\u001b[39;00m \u001b[38;5;167;01mValueError\u001b[39;00m(\n\u001b[1;32m    277\u001b[0m         \u001b[38;5;124mf\u001b[39m\u001b[38;5;124m\"\u001b[39m\u001b[38;5;124mIPython won\u001b[39m\u001b[38;5;124m'\u001b[39m\u001b[38;5;124mt let you open fd=\u001b[39m\u001b[38;5;132;01m{\u001b[39;00mfile\u001b[38;5;132;01m}\u001b[39;00m\u001b[38;5;124m by default \u001b[39m\u001b[38;5;124m\"\u001b[39m\n\u001b[1;32m    278\u001b[0m         \u001b[38;5;124m\"\u001b[39m\u001b[38;5;124mas it is likely to crash IPython. If you know what you are doing, \u001b[39m\u001b[38;5;124m\"\u001b[39m\n\u001b[1;32m    279\u001b[0m         \u001b[38;5;124m\"\u001b[39m\u001b[38;5;124myou can use builtins\u001b[39m\u001b[38;5;124m'\u001b[39m\u001b[38;5;124m open.\u001b[39m\u001b[38;5;124m\"\u001b[39m\n\u001b[1;32m    280\u001b[0m     )\n\u001b[0;32m--> 282\u001b[0m \u001b[38;5;28;01mreturn\u001b[39;00m \u001b[43mio_open\u001b[49m\u001b[43m(\u001b[49m\u001b[43mfile\u001b[49m\u001b[43m,\u001b[49m\u001b[43m \u001b[49m\u001b[38;5;241;43m*\u001b[39;49m\u001b[43margs\u001b[49m\u001b[43m,\u001b[49m\u001b[43m \u001b[49m\u001b[38;5;241;43m*\u001b[39;49m\u001b[38;5;241;43m*\u001b[39;49m\u001b[43mkwargs\u001b[49m\u001b[43m)\u001b[49m\n",
      "\u001b[0;31mFileNotFoundError\u001b[0m: [Errno 2] No such file or directory: 'file_not_existing'"
     ]
    }
   ],
   "source": [
    "with open('file_not_existing' , 'r') as file:\n",
    "    file=file_not_existing.read()\n",
    "    "
   ]
  },
  {
   "cell_type": "code",
   "execution_count": 12,
   "id": "f98f5ff4-68cc-43ff-8e54-ec3ed189f386",
   "metadata": {},
   "outputs": [
    {
     "data": {
      "text/plain": [
       "'Q3. Which Python statements are used to catah and handle exceptions? Explain with an example.'"
      ]
     },
     "execution_count": 12,
     "metadata": {},
     "output_type": "execute_result"
    }
   ],
   "source": [
    "'''Q3. Which Python statements are used to catah and handle exceptions? Explain with an example.'''"
   ]
  },
  {
   "cell_type": "code",
   "execution_count": 13,
   "id": "5133fa4b-afed-4857-951b-58dfeb892eb1",
   "metadata": {},
   "outputs": [],
   "source": [
    "# In python try and except statement is used for the catch and handle the exception. try is used for catching the exception and except is \n",
    "# used for handle the exception."
   ]
  },
  {
   "cell_type": "code",
   "execution_count": 14,
   "id": "f63647de-4346-46e1-92d8-c2e69fcf06c6",
   "metadata": {},
   "outputs": [],
   "source": [
    "def test(value):\n",
    "    try:\n",
    "        value/0\n",
    "    except ZeroDivisionError:\n",
    "        print('This is a Zero divisible error')"
   ]
  },
  {
   "cell_type": "code",
   "execution_count": 15,
   "id": "f84364d9-ec64-44c8-a4d5-25f9ccb1c20a",
   "metadata": {},
   "outputs": [
    {
     "name": "stdout",
     "output_type": "stream",
     "text": [
      "This is a Zero divisible error\n"
     ]
    }
   ],
   "source": [
    "test(5)"
   ]
  },
  {
   "cell_type": "code",
   "execution_count": 16,
   "id": "25bda14f-741c-44d0-8e5d-d436daf205d3",
   "metadata": {},
   "outputs": [
    {
     "data": {
      "text/plain": [
       "'Q4. Explain with an examples:\\n\\n       1) try and else\\n       2) finally\\n       3) raise'"
      ]
     },
     "execution_count": 16,
     "metadata": {},
     "output_type": "execute_result"
    }
   ],
   "source": [
    "'''Q4. Explain with an examples:\n",
    "\n",
    "       1) try and else\n",
    "       2) finally\n",
    "       3) raise'''"
   ]
  },
  {
   "cell_type": "code",
   "execution_count": 17,
   "id": "7704cebf-8022-439c-ac44-42899416acee",
   "metadata": {},
   "outputs": [
    {
     "name": "stdout",
     "output_type": "stream",
     "text": [
      "this is a error of list index out of range\n"
     ]
    }
   ],
   "source": [
    "# 1) try and else\n",
    "try:\n",
    "    l=[1,2,3,4]\n",
    "    print(l[5])\n",
    "except IndexError as e:\n",
    "    print( 'this is a error of' , e)"
   ]
  },
  {
   "cell_type": "code",
   "execution_count": 18,
   "id": "bbad8459-fbb3-428f-90ee-e443c6e8362b",
   "metadata": {},
   "outputs": [
    {
     "name": "stdout",
     "output_type": "stream",
     "text": [
      "list index out of range\n",
      "this block is always working\n"
     ]
    }
   ],
   "source": [
    "# 2) finally\n",
    "\n",
    "try:\n",
    "    l=[1,2,3,4]\n",
    "    print(l[5])\n",
    "except IndexError as e:\n",
    "    print(e)\n",
    "finally :\n",
    "    print('this block is always working')"
   ]
  },
  {
   "cell_type": "code",
   "execution_count": 22,
   "id": "c18287a2-d350-49ed-9c38-11f02d9b5fe8",
   "metadata": {},
   "outputs": [],
   "source": [
    "class validate_age(Exception):\n",
    "    def __init__(self,msg):\n",
    "        self.msg=msg"
   ]
  },
  {
   "cell_type": "code",
   "execution_count": 23,
   "id": "3d96cc91-4684-452d-87fc-c475bf044e84",
   "metadata": {},
   "outputs": [],
   "source": [
    "# 3) raise\n",
    "\n",
    "def validateage(age):\n",
    "    if age<0:\n",
    "        raise validate_age('age is negative')\n",
    "    elif age>200:\n",
    "        raise validate_age('age is very high')\n",
    "    else:\n",
    "        print('your age is valid')"
   ]
  },
  {
   "cell_type": "code",
   "execution_count": 27,
   "id": "3b112a7b-c01f-4d47-9b8c-c30ba6e312d5",
   "metadata": {},
   "outputs": [
    {
     "name": "stdin",
     "output_type": "stream",
     "text": [
      "enter your age -55\n"
     ]
    },
    {
     "name": "stdout",
     "output_type": "stream",
     "text": [
      "age is negative\n"
     ]
    }
   ],
   "source": [
    "try:\n",
    "    age=int(input('enter your age'))\n",
    "    validateage(age)\n",
    "except validate_age as e:\n",
    "    print(e)\n",
    "    "
   ]
  },
  {
   "cell_type": "code",
   "execution_count": 28,
   "id": "88c0a8c4-3083-4490-a8fc-d283c31e347d",
   "metadata": {},
   "outputs": [
    {
     "data": {
      "text/plain": [
       "' Q5. What are custom exceptions in python? Why do we need custom exceptions? Explain with an example.'"
      ]
     },
     "execution_count": 28,
     "metadata": {},
     "output_type": "execute_result"
    }
   ],
   "source": [
    "''' Q5. What are custom exceptions in python? Why do we need custom exceptions? Explain with an example.'''"
   ]
  },
  {
   "cell_type": "code",
   "execution_count": 29,
   "id": "e46e7fe0-502c-4723-9f90-cb67be20f8c3",
   "metadata": {},
   "outputs": [],
   "source": [
    "# Custom exceptions in Python are user-defined exceptions that extend or subclass the built-in exception\n",
    "# classes provided by Python, such as Exception, ValueError, or TypeError."
   ]
  },
  {
   "cell_type": "code",
   "execution_count": 30,
   "id": "cb160cd0-d94e-401b-9b4e-be992409bc4e",
   "metadata": {},
   "outputs": [],
   "source": [
    "# Custom exceptions provide more specific and meaningful error messages, making it easier to understand and\n",
    "# debug issues in your code.\n",
    "# Custom exceptions can be extended with additional information or methods to enhance error reporting and \n",
    "# recovery."
   ]
  },
  {
   "cell_type": "code",
   "execution_count": 31,
   "id": "d82f5eef-92fa-4e25-8b98-5df4b0d1c43b",
   "metadata": {},
   "outputs": [
    {
     "name": "stdout",
     "output_type": "stream",
     "text": [
      "Email sent successfully to: user@example\n"
     ]
    }
   ],
   "source": []
  },
  {
   "cell_type": "code",
   "execution_count": 35,
   "id": "cc4b12a9-a543-4baf-a32c-6e3bd4e7bdfa",
   "metadata": {},
   "outputs": [
    {
     "data": {
      "text/plain": [
       "'Q6. Create a custom exception class. Use this clss to handle an exxeption.'"
      ]
     },
     "execution_count": 35,
     "metadata": {},
     "output_type": "execute_result"
    }
   ],
   "source": [
    "'''Q6. Create a custom exception class. Use this clss to handle an exxeption.'''"
   ]
  },
  {
   "cell_type": "code",
   "execution_count": 36,
   "id": "ed654cc3-0e26-43d9-999d-98f9ccf44ca2",
   "metadata": {},
   "outputs": [
    {
     "name": "stdout",
     "output_type": "stream",
     "text": [
      "Email sent successfully to: adi@gmail.com\n"
     ]
    }
   ],
   "source": [
    "class InvalidEmailError(Exception):\n",
    "    def __init__(self, email):\n",
    "        self.email = email\n",
    "        super().__init__(f\"Invalid email address: {email}\")\n",
    "\n",
    "def send_email(to_email, message):\n",
    "    if not \"@\" in to_email:\n",
    "        raise InvalidEmailError(to_email)\n",
    "\n",
    "try:\n",
    "    to_email = \"adi@gmail.com\"\n",
    "    send_email(to_email, \"Hello, this is a test email.\")\n",
    "except InvalidEmailError as e:\n",
    "    print(e)\n",
    "else:\n",
    "    print(f\"Email sent successfully to: {to_email}\")\n"
   ]
  },
  {
   "cell_type": "code",
   "execution_count": null,
   "id": "6aa6b378-53cb-4f8b-9dcf-bfbf8aeb0069",
   "metadata": {},
   "outputs": [],
   "source": []
  }
 ],
 "metadata": {
  "kernelspec": {
   "display_name": "Python 3 (ipykernel)",
   "language": "python",
   "name": "python3"
  },
  "language_info": {
   "codemirror_mode": {
    "name": "ipython",
    "version": 3
   },
   "file_extension": ".py",
   "mimetype": "text/x-python",
   "name": "python",
   "nbconvert_exporter": "python",
   "pygments_lexer": "ipython3",
   "version": "3.10.8"
  }
 },
 "nbformat": 4,
 "nbformat_minor": 5
}
