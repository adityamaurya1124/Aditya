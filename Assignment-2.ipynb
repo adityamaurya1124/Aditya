{
 "cells": [
  {
   "cell_type": "code",
   "execution_count": 1,
   "id": "43842a64-5787-40f3-9ca7-b02ae6c0c97b",
   "metadata": {},
   "outputs": [],
   "source": [
    "# Q1. How do you comment code in Python? What are the different types of comments?"
   ]
  },
  {
   "cell_type": "code",
   "execution_count": 54,
   "id": "56515292-26d1-432d-9f7b-ce7e5f8d211b",
   "metadata": {},
   "outputs": [
    {
     "data": {
      "text/plain": [
       "'this is multi line comment type '"
      ]
     },
     "execution_count": 54,
     "metadata": {},
     "output_type": "execute_result"
    }
   ],
   "source": [
    "# There are two types of commen in python .\n",
    "# 1) Single line  Eg= #This is a type of single line comment \n",
    "\n",
    "# 2) Multi line or Docstring  \n",
    "\n",
    "# Eg= \n",
    "\"\"\"this is multi line comment type \"\"\""
   ]
  },
  {
   "cell_type": "code",
   "execution_count": 6,
   "id": "e3d8b219-afb4-4f89-a09c-766b2b868800",
   "metadata": {},
   "outputs": [],
   "source": [
    "# Q2. What are variables in Python? How do you declare and assign values to variables?"
   ]
  },
  {
   "cell_type": "code",
   "execution_count": 7,
   "id": "5790c05d-70a8-4079-871d-c01942bd9821",
   "metadata": {},
   "outputs": [],
   "source": [
    "# Variables are used for to assign the value .\n",
    "# We can assign value like this Eg= a=10"
   ]
  },
  {
   "cell_type": "code",
   "execution_count": 8,
   "id": "e0d4a24e-5f74-4fc6-83df-724e8bede83a",
   "metadata": {},
   "outputs": [],
   "source": [
    "# Q3. How do you convert one data type to another in Python?"
   ]
  },
  {
   "cell_type": "code",
   "execution_count": 9,
   "id": "45f375fc-52ba-4eef-af88-3f651af30c9a",
   "metadata": {},
   "outputs": [],
   "source": [
    "# we can convert data in in other data type like that Eg="
   ]
  },
  {
   "cell_type": "code",
   "execution_count": 13,
   "id": "335a7977-c49b-4ad0-b52e-0cc6d6c86d77",
   "metadata": {},
   "outputs": [],
   "source": [
    "a=55.1"
   ]
  },
  {
   "cell_type": "code",
   "execution_count": 14,
   "id": "62f78d30-8c42-41ef-87fb-ab9ed322654a",
   "metadata": {},
   "outputs": [
    {
     "data": {
      "text/plain": [
       "55"
      ]
     },
     "execution_count": 14,
     "metadata": {},
     "output_type": "execute_result"
    }
   ],
   "source": [
    "int(a)"
   ]
  },
  {
   "cell_type": "code",
   "execution_count": 15,
   "id": "63fb9509-1042-4529-b7e9-fd1978c77cf3",
   "metadata": {},
   "outputs": [],
   "source": [
    "# Q4. How do you write and execute a Python script from the command line?"
   ]
  },
  {
   "cell_type": "code",
   "execution_count": null,
   "id": "3c43fefd-93e1-4bf3-92d9-70f6837219f8",
   "metadata": {},
   "outputs": [],
   "source": []
  },
  {
   "cell_type": "code",
   "execution_count": 19,
   "id": "0cdef06d-4729-4016-9872-b0a30bf16341",
   "metadata": {},
   "outputs": [],
   "source": [
    "# Q5. Given a list my_list = [1, 2, 3, 4, 5], write the code to slice the list and obtain the sub-list [2, 3]."
   ]
  },
  {
   "cell_type": "code",
   "execution_count": 55,
   "id": "bdc96c36-5746-4cff-8c2d-7adfbd00e6ab",
   "metadata": {},
   "outputs": [],
   "source": [
    "a=[1,2,3,4,5]"
   ]
  },
  {
   "cell_type": "code",
   "execution_count": null,
   "id": "a934cd48-6aa6-4cfd-a54a-e4a37f752c64",
   "metadata": {},
   "outputs": [],
   "source": [
    "a"
   ]
  },
  {
   "cell_type": "code",
   "execution_count": 30,
   "id": "dd408585-9025-4cf7-a1dd-281880e16aa2",
   "metadata": {},
   "outputs": [],
   "source": [
    "# Q6. What is a complex number in mathematics, and how is it represented in Python?"
   ]
  },
  {
   "cell_type": "code",
   "execution_count": 31,
   "id": "a6931fb8-22bc-49e4-8b23-89cc187dfc6a",
   "metadata": {},
   "outputs": [],
   "source": [
    "# complex number in marthmatics is like 5+8i\n",
    "\n",
    "# in pyhton we represent complex number is like 5+8j"
   ]
  },
  {
   "cell_type": "code",
   "execution_count": 32,
   "id": "4b1e4a63-3064-4ecb-bd3b-6f01ab6805e7",
   "metadata": {},
   "outputs": [],
   "source": [
    "# Q7. What is the correct way to declare a variable named age and assign the value 25 to it?"
   ]
  },
  {
   "cell_type": "code",
   "execution_count": 33,
   "id": "715f8647-a4df-41e1-9b5c-461232faf707",
   "metadata": {},
   "outputs": [],
   "source": [
    "age = 25 # Is a correct way to declare a variable name age to assign value to it"
   ]
  },
  {
   "cell_type": "code",
   "execution_count": 34,
   "id": "899cbaa1-2087-447a-8d89-b251e3b2a7d9",
   "metadata": {},
   "outputs": [],
   "source": [
    "# Q8. Declare a variable named price and assign the value 9.99 to it. What data type does this variable \n",
    "#     belong to?"
   ]
  },
  {
   "cell_type": "code",
   "execution_count": 35,
   "id": "82921f9f-812f-476a-b2e8-5d6df3dc6d0a",
   "metadata": {},
   "outputs": [],
   "source": [
    "price=9.99"
   ]
  },
  {
   "cell_type": "code",
   "execution_count": 36,
   "id": "c56b835f-fd32-4c33-844d-62795b970ccd",
   "metadata": {},
   "outputs": [
    {
     "data": {
      "text/plain": [
       "float"
      ]
     },
     "execution_count": 36,
     "metadata": {},
     "output_type": "execute_result"
    }
   ],
   "source": [
    "type(price)"
   ]
  },
  {
   "cell_type": "code",
   "execution_count": 37,
   "id": "9b24e151-ba24-4d82-92ba-dc0774cd75f4",
   "metadata": {},
   "outputs": [],
   "source": [
    "# Price is a float type of variable"
   ]
  },
  {
   "cell_type": "code",
   "execution_count": 39,
   "id": "874c0521-2465-4fd4-8f9b-e494a3f868a8",
   "metadata": {},
   "outputs": [],
   "source": [
    "# Q9. Create a variable named name and assign your full name to it as a string. How would you print the \n",
    "#     value of this variable?"
   ]
  },
  {
   "cell_type": "code",
   "execution_count": 40,
   "id": "f8b621ac-06d3-478d-8442-30ee4b704945",
   "metadata": {},
   "outputs": [],
   "source": [
    "name='Aditya Maurya'"
   ]
  },
  {
   "cell_type": "code",
   "execution_count": 42,
   "id": "8b3327bc-16a3-4e92-bca9-db898201308c",
   "metadata": {},
   "outputs": [
    {
     "name": "stdout",
     "output_type": "stream",
     "text": [
      "Aditya Maurya\n"
     ]
    }
   ],
   "source": [
    "print(name)"
   ]
  },
  {
   "cell_type": "code",
   "execution_count": 43,
   "id": "5c597d21-07c6-4b74-aa40-b3e9ed27973f",
   "metadata": {},
   "outputs": [],
   "source": [
    "# Q10. Given the string \"Hello, World!\", extract the substring \"World\"."
   ]
  },
  {
   "cell_type": "code",
   "execution_count": 44,
   "id": "7353dcf3-ece6-4a45-a14a-3e541ec97845",
   "metadata": {},
   "outputs": [],
   "source": [
    "a= 'Hello World'"
   ]
  },
  {
   "cell_type": "code",
   "execution_count": 48,
   "id": "b63aa3b8-6e27-4325-aa11-0ef0d293ab64",
   "metadata": {},
   "outputs": [
    {
     "data": {
      "text/plain": [
       "'World'"
      ]
     },
     "execution_count": 48,
     "metadata": {},
     "output_type": "execute_result"
    }
   ],
   "source": [
    "a[6:11]"
   ]
  },
  {
   "cell_type": "code",
   "execution_count": 49,
   "id": "1d568b64-01a9-4f88-bc14-d5635e92e680",
   "metadata": {},
   "outputs": [],
   "source": [
    "# Q11. Create a variable named \"is_student\" and assign it a boolean value indicating whether you are \n",
    "#      currently a student or not."
   ]
  },
  {
   "cell_type": "code",
   "execution_count": 51,
   "id": "ca71e135-0b95-4839-9227-043220c03926",
   "metadata": {},
   "outputs": [],
   "source": [
    "is_student=True"
   ]
  },
  {
   "cell_type": "code",
   "execution_count": null,
   "id": "3198e2b6-2656-4d6f-a084-6a722aa089be",
   "metadata": {},
   "outputs": [],
   "source": []
  }
 ],
 "metadata": {
  "kernelspec": {
   "display_name": "Python 3 (ipykernel)",
   "language": "python",
   "name": "python3"
  },
  "language_info": {
   "codemirror_mode": {
    "name": "ipython",
    "version": 3
   },
   "file_extension": ".py",
   "mimetype": "text/x-python",
   "name": "python",
   "nbconvert_exporter": "python",
   "pygments_lexer": "ipython3",
   "version": "3.10.8"
  }
 },
 "nbformat": 4,
 "nbformat_minor": 5
}
